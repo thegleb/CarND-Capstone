{
 "cells": [
  {
   "cell_type": "code",
   "execution_count": 1,
   "metadata": {},
   "outputs": [],
   "source": [
    "from object_detection.utils import dataset_util\n",
    "from PIL import Image\n",
    "from PIL import ImageDraw\n",
    "from PIL import ImageColor\n",
    "from PIL import ImageFilter\n",
    "from scipy.stats import norm\n",
    "from shapely.geometry import Polygon\n",
    "from shapely import affinity\n",
    "\n",
    "import cv2\n",
    "import functools\n",
    "import json\n",
    "import matplotlib.pyplot as plt\n",
    "import numpy as np\n",
    "import os\n",
    "import random\n",
    "import tensorflow as tf\n",
    "import time\n",
    "import xml.etree.ElementTree as ET\n",
    "import yaml\n",
    "\n",
    "%matplotlib inline\n",
    "plt.style.use('ggplot')"
   ]
  },
  {
   "cell_type": "code",
   "execution_count": null,
   "metadata": {},
   "outputs": [],
   "source": []
  },
  {
   "cell_type": "code",
   "execution_count": null,
   "metadata": {},
   "outputs": [],
   "source": []
  },
  {
   "cell_type": "markdown",
   "metadata": {},
   "source": [
    "## Create synthetic training data"
   ]
  },
  {
   "cell_type": "code",
   "execution_count": 10,
   "metadata": {},
   "outputs": [
    {
     "name": "stdout",
     "output_type": "stream",
     "text": [
      "Done!\n"
     ]
    }
   ],
   "source": [
    "backgrounds = [\n",
    "    'synthetic-data/backgrounds/bg-1.jpg',\n",
    "    'synthetic-data/backgrounds/bg-2.jpg',\n",
    "    'synthetic-data/backgrounds/bg-3.jpg',\n",
    "    'synthetic-data/backgrounds/bg-4.jpg',\n",
    "    'synthetic-data/backgrounds/bg-5.jpg',\n",
    "    'synthetic-data/backgrounds/bg-6.jpg',\n",
    "    'synthetic-data/backgrounds/bg-7.jpg',\n",
    "    'synthetic-data/backgrounds/bg-8.jpg',\n",
    "    'synthetic-data/backgrounds/bg-9.jpg',\n",
    "    'synthetic-data/backgrounds/bg-10.jpg',\n",
    "    'synthetic-data/backgrounds/bg-11.jpg',\n",
    "    'synthetic-data/backgrounds/bg-12.jpg',\n",
    "    'synthetic-data/backgrounds/bg-13.jpg',\n",
    "    'synthetic-data/backgrounds/bg-14.jpg',\n",
    "    'synthetic-data/backgrounds/bg-15.jpg',\n",
    "    'synthetic-data/backgrounds/bg-16.jpg',\n",
    "    'synthetic-data/backgrounds/bg-17.jpg',\n",
    "    'synthetic-data/backgrounds/bg-18.jpg',\n",
    "    'synthetic-data/backgrounds/bg-19.jpg',\n",
    "    'synthetic-data/backgrounds/bg-20.jpg',\n",
    "    'synthetic-data/backgrounds/bg-21.jpg',\n",
    "    'synthetic-data/backgrounds/bg-22.jpg',\n",
    "    'synthetic-data/backgrounds/bg-23.jpg',\n",
    "    'synthetic-data/backgrounds/bg-24.jpg',\n",
    "    'synthetic-data/backgrounds/bg-25.jpg',\n",
    "    'synthetic-data/backgrounds/bg-26.jpg',\n",
    "    'synthetic-data/backgrounds/bg-27.jpg',\n",
    "    'synthetic-data/backgrounds/bg-28.jpg',\n",
    "    'synthetic-data/backgrounds/bg-29.jpg',\n",
    "    'synthetic-data/backgrounds/bg-30.jpg'\n",
    "]\n",
    "red = [\n",
    "    'synthetic-data/elements/red-large.jpg',\n",
    "    'synthetic-data/elements/red-medium.jpg',\n",
    "    'synthetic-data/elements/red-small.jpg'\n",
    "]\n",
    "green = [\n",
    "    'synthetic-data/elements/green-large.jpg',\n",
    "    'synthetic-data/elements/green-medium.jpg',\n",
    "    'synthetic-data/elements/green-small.jpg'\n",
    "]\n",
    "yellow = [\n",
    "    'synthetic-data/elements/yellow-large.jpg',\n",
    "    'synthetic-data/elements/yellow-medium.jpg',\n",
    "    'synthetic-data/elements/yellow-small.jpg'\n",
    "]\n",
    "\n",
    "def create_object(wrapper, label, bounding_box):\n",
    "    obj = ET.SubElement(wrapper, 'object')\n",
    "\n",
    "    name = ET.SubElement(obj, 'name')\n",
    "    name.text = label\n",
    "    \n",
    "    pose = ET.SubElement(obj, 'pose')\n",
    "    pose.text = 'Unspecified'\n",
    "    \n",
    "    truncated = ET.SubElement(obj, 'truncated')\n",
    "    truncated.text = str(0)\n",
    "    \n",
    "    difficult = ET.SubElement(obj, 'difficult')\n",
    "    difficult.text = str(0)\n",
    "\n",
    "    bndbox = ET.SubElement(obj, 'bndbox')\n",
    "\n",
    "    xmin = ET.SubElement(bndbox, 'xmin')\n",
    "    xmin.text = str(bounding_box[0])\n",
    "\n",
    "    ymin = ET.SubElement(bndbox, 'ymin')\n",
    "    ymin.text = str(bounding_box[1])\n",
    "\n",
    "    xmax = ET.SubElement(bndbox, 'xmax')\n",
    "    xmax.text = str(bounding_box[2])\n",
    "\n",
    "    ymax = ET.SubElement(bndbox, 'ymax')\n",
    "    ymax.text = str(bounding_box[3])\n",
    "\n",
    "def create_xml(name, width, height, bounding_boxes, labels):\n",
    "    annotation = ET.Element('annotation')\n",
    "    \n",
    "    filename = ET.SubElement(annotation, 'filename')\n",
    "    filename.text = name\n",
    "    \n",
    "    size = ET.SubElement(annotation, 'size')\n",
    "\n",
    "    w = ET.SubElement(size, 'width')\n",
    "    w.text = str(width)\n",
    "\n",
    "    h = ET.SubElement(size, 'height')\n",
    "    h.text = str(height)\n",
    "\n",
    "    depth = ET.SubElement(size, 'depth')\n",
    "    depth.text = str(3)\n",
    "    \n",
    "    segmented = ET.SubElement(annotation, 'segmented')\n",
    "    segmented.text = str(0)\n",
    "    \n",
    "    for i in range(len(bounding_boxes)):\n",
    "        create_object(annotation, labels[i], bounding_boxes[i])\n",
    "    return annotation\n",
    "    \n",
    "def find_overlapping_bounding_box(bounding_boxes, new_bounding_box):\n",
    "    max_intersection = 0\n",
    "    for i in range(len(bounding_boxes)):\n",
    "        min_x, min_y, max_x, max_y = bounding_boxes[i]\n",
    "        new_min_x, new_min_y, new_max_x, new_max_y = new_bounding_box\n",
    "#         print(new_bounding_box)\n",
    "        existing_bb = Polygon([\n",
    "            (min_x, min_y),\n",
    "            (max_x, min_y),\n",
    "            (max_x, max_y),\n",
    "            (min_x, max_y)\n",
    "        ])\n",
    "        new_bb= Polygon([\n",
    "            (new_min_x, new_min_y),\n",
    "            (new_max_x, new_min_y),\n",
    "            (new_max_x, new_max_y),\n",
    "            (new_min_x, new_max_y)\n",
    "        ])\n",
    "        intersection = existing_bb.intersection(new_bb)\n",
    "        area_of_overlap = intersection.area / new_bb.area if new_bb.area < existing_bb.area else intersection.area / existing_bb.area\n",
    "\n",
    "        if area_of_overlap > max_intersection:\n",
    "            max_intersection = area_of_overlap\n",
    "    return max_intersection\n",
    "        \n",
    "def rotate_bb(bb, degrees):\n",
    "    min_x, min_y, max_x, max_y = bb\n",
    "    poly = Polygon([\n",
    "        (min_x, min_y),\n",
    "        (max_x, min_y),\n",
    "        (max_x, max_y),\n",
    "        (min_x, max_y)\n",
    "    ])\n",
    "    modified = affinity.rotate(poly, degrees)\n",
    "    min_x, min_y, max_x, max_y = modified.bounds\n",
    "    return [int(min_x), int(max_y), int(max_x), int(min_y)]\n",
    "    \n",
    "def rescale_bb(bb, ratio):\n",
    "    min_x, min_y, max_x, max_y = bb\n",
    "    poly = Polygon([\n",
    "        (min_x, min_y),\n",
    "        (max_x, min_y),\n",
    "        (max_x, max_y),\n",
    "        (min_x, max_y)\n",
    "    ])\n",
    "    modified = affinity.scale(poly, xfact=ratio, yfact=ratio)\n",
    "    \n",
    "    min_x, min_y, max_x, max_y = modified.bounds\n",
    "    return [int(min_x), int(max_y), int(max_x), int(min_y)]\n",
    "\n",
    "def add_to_image(bg, img_set, num, other_bounding_boxes):\n",
    "    bounding_boxes = []\n",
    "    for num_light in range(random.randint(1, num)):\n",
    "        # 0 = large, 1 = medium, 2 = small\n",
    "        img_num = random.randint(0, 2)\n",
    "        synth_image = Image.open(img_set[img_num]).convert('RGBA')\n",
    "        \n",
    "        # 50 percent chance of flipping the image horizontally\n",
    "        flip_chance = random.uniform(0.0, 1.0)\n",
    "        if flip_chance > 0.5:\n",
    "            synth_image.transpose(Image.FLIP_LEFT_RIGHT)\n",
    "            \n",
    "        # get the element dimensions\n",
    "        light_width, light_height = synth_image.size\n",
    "        bg_width, bg_height = bg.size\n",
    "\n",
    "        # random rotation/rescale rtios\n",
    "        degrees = random.uniform(-3.0, 3.0)\n",
    "        if img_num == 0:\n",
    "            # large images\n",
    "            ratio = random.uniform(0.5, 1.2)\n",
    "        elif img_num == 1:\n",
    "            # medium images\n",
    "            ratio = random.uniform(0.2, 1.0)\n",
    "        else:\n",
    "            # leave tiny images alone\n",
    "            ratio = 1\n",
    "\n",
    "        while True:\n",
    "            upper_left_x = random.randint(-light_width / 2, bg_width - light_width / 2)\n",
    "            upper_left_y = random.randint(-light_width / 2, bg_height + light_height / 2)\n",
    "\n",
    "            bounding_box = rescale_bb(rotate_bb([\n",
    "                upper_left_x,\n",
    "                upper_left_y + light_height,\n",
    "                upper_left_x + light_width,\n",
    "                upper_left_y\n",
    "            ], degrees), ratio)\n",
    "\n",
    "            overlap = find_overlapping_bounding_box(bounding_boxes + other_bounding_boxes, bounding_box)\n",
    "            # check to make sure this isn't overlapping an existing image, and isn't over 50% off screen\n",
    "            if overlap < 0.15 and bounding_box[3] < bg.size[1] - light_height / 2 and bounding_box[2] < bg.size[0] - light_width / 2:\n",
    "                break\n",
    "        \n",
    "        # apply random rotation\n",
    "        rotated_image = synth_image.rotate(degrees, expand=1)\n",
    "        # apply random resizing\n",
    "        rescaled_image = rotated_image.resize(\n",
    "            (int(rotated_image.width * ratio), int(rotated_image.height * ratio)),\n",
    "            resample=Image.BICUBIC\n",
    "        )\n",
    "        # apply random gaussian blur\n",
    "        final_image = rescaled_image.filter(ImageFilter.GaussianBlur(radius=random.randint(0,3))) if img_num == 0 else rescaled_image\n",
    "        bg.paste(\n",
    "            final_image,\n",
    "            (bounding_box[0], bounding_box[3]),\n",
    "            final_image\n",
    "        )\n",
    "\n",
    "        # bounding box is in the format xmin, ymin, xmax, ymax\n",
    "        bounding_boxes.append(bounding_box)\n",
    "    return bounding_boxes\n",
    "\n",
    "# at most we want the light half-obscured\n",
    "# currently this outputs images and labels to a directory called output/ (model-playground/output/)\n",
    "all_images = []\n",
    "all_labels = []\n",
    "entries = []\n",
    "for i in range(2000):\n",
    "    bg = Image.open(backgrounds[random.randint(0, len(backgrounds) - 1)])\n",
    "\n",
    "    filename = 'synthetic-' + str(i)\n",
    "    bounding_boxes = []\n",
    "    labels = []\n",
    "\n",
    "    new_bounding_boxes = add_to_image(bg, green, 5, bounding_boxes)\n",
    "    for i in range(len(new_bounding_boxes)):\n",
    "        labels.append('Green_light')\n",
    "        bounding_boxes.append(new_bounding_boxes[i])\n",
    "\n",
    "    new_bounding_boxes = add_to_image(bg, yellow, 5, bounding_boxes)\n",
    "    for i in range(len(new_bounding_boxes)):\n",
    "        labels.append('Green_light')\n",
    "        bounding_boxes.append(new_bounding_boxes[i])\n",
    "\n",
    "    new_bounding_boxes = add_to_image(bg, red, 5, bounding_boxes)\n",
    "    for i in range(len(new_bounding_boxes)):\n",
    "        labels.append('Green_light')\n",
    "        bounding_boxes.append(new_bounding_boxes[i])\n",
    "\n",
    "    bg_width, bg_height = bg.size\n",
    "    \n",
    "    annotation = create_xml(filename + '.jpg', bg_width, bg_height, bounding_boxes, labels)\n",
    "    ET.ElementTree(annotation).write('./data/images/' + filename + '.xml')\n",
    "    image_filename = './data/images/' + filename + '.jpg'\n",
    "    bg.save(image_filename)\n",
    "    \n",
    "    # everything below is for writing yaml file for the tfrecord conversion\n",
    "    all_labels.append([bounding_boxes, labels])\n",
    "    entry = {\n",
    "        'path': '',\n",
    "        'boxes': []\n",
    "    }\n",
    "    entry['path'] = image_filename\n",
    "    for i in range(len(bounding_boxes)):\n",
    "        x_min, y_min, x_max, y_max = bounding_boxes[i]\n",
    "        entry['boxes'].append({\n",
    "            'label': labels[i],\n",
    "            'x_max': x_max,\n",
    "            'x_min': x_min,\n",
    "            'y_max': y_max,\n",
    "            'y_min': y_min\n",
    "        })\n",
    "    \n",
    "    entries.append(entry)\n",
    "    \n",
    "with open(r'./data/images.yaml', 'w') as file:\n",
    "    yaml.dump(entries, file)\n",
    "\n",
    "print('Done!')\n",
    "#     plt.imshow(bg)"
   ]
  },
  {
   "cell_type": "code",
   "execution_count": null,
   "metadata": {},
   "outputs": [],
   "source": []
  },
  {
   "cell_type": "code",
   "execution_count": null,
   "metadata": {},
   "outputs": [],
   "source": []
  },
  {
   "cell_type": "code",
   "execution_count": null,
   "metadata": {},
   "outputs": [],
   "source": []
  },
  {
   "cell_type": "markdown",
   "metadata": {},
   "source": [
    "### Create TFRecord"
   ]
  },
  {
   "cell_type": "code",
   "execution_count": 12,
   "metadata": {},
   "outputs": [
    {
     "name": "stdout",
     "output_type": "stream",
     "text": [
      "Reading yaml...\n"
     ]
    },
    {
     "name": "stderr",
     "output_type": "stream",
     "text": [
      "/Users/gleb/miniconda3/envs/carnd-capstone/lib/python2.7/site-packages/ipykernel_launcher.py:63: YAMLLoadWarning: calling yaml.load() without Loader=... is deprecated, as the default Loader is unsafe. Please read https://msg.pyyaml.org/load for full details.\n"
     ]
    },
    {
     "name": "stdout",
     "output_type": "stream",
     "text": [
      "Loaded 2000 examples...\n",
      "Done!\n"
     ]
    }
   ],
   "source": [
    "INPUT_YAML = \"./data/images.yaml\"\n",
    "TFRECORD_DESTINATION = './model/jpg_simulator_train.record'\n",
    "\n",
    "LABEL_DICT =  {\n",
    "    \"Green_light\" : 1,\n",
    "    \"Red_light\" : 2,\n",
    "    \"Yellow_light\" : 3,\n",
    "}\n",
    "\n",
    "def create_tf_record(example):\n",
    "\n",
    "    height = 600 # Image height\n",
    "    width = 800 # Image width\n",
    "\n",
    "    filename = example['path'] # Filename of the image. Empty if image is not from file\n",
    "    filename = filename.encode()\n",
    "\n",
    "    with tf.gfile.GFile(example['path'], 'rb') as fid:\n",
    "        encoded_image = fid.read()\n",
    "\n",
    "    image_format = 'jpg'.encode()\n",
    "\n",
    "    xmins = [] # List of normalized left x coordinates in bounding box (1 per box)\n",
    "    xmaxs = [] # List of normalized right x coordinates in bounding box\n",
    "                # (1 per box)\n",
    "    ymins = [] # List of normalized top y coordinates in bounding box (1 per box)\n",
    "    ymaxs = [] # List of normalized bottom y coordinates in bounding box\n",
    "                # (1 per box)\n",
    "    classes_text = [] # List of string class name of bounding box (1 per box)\n",
    "    classes = [] # List of integer class id of bounding box (1 per box)\n",
    "\n",
    "    for box in example['boxes']:\n",
    "        #if box['occluded'] is False:\n",
    "        #print(\"adding box\")\n",
    "        xmins.append(float(box['x_min'] / width))\n",
    "        xmaxs.append(float(box['x_max'] / width))\n",
    "        ymins.append(float(box['y_min'] / height))\n",
    "        ymaxs.append(float(box['y_max'] / height))\n",
    "        classes_text.append(box['label'].encode())\n",
    "        classes.append(int(LABEL_DICT[box['label']]))\n",
    "\n",
    "\n",
    "    tf_record = tf.train.Example(features=tf.train.Features(feature={\n",
    "        'image/height': dataset_util.int64_feature(height),\n",
    "        'image/width': dataset_util.int64_feature(width),\n",
    "        'image/filename': dataset_util.bytes_feature(filename),\n",
    "        'image/source_id': dataset_util.bytes_feature(filename),\n",
    "        'image/encoded': dataset_util.bytes_feature(encoded_image),\n",
    "        'image/format': dataset_util.bytes_feature(image_format),\n",
    "        'image/object/bbox/xmin': dataset_util.float_list_feature(xmins),\n",
    "        'image/object/bbox/xmax': dataset_util.float_list_feature(xmaxs),\n",
    "        'image/object/bbox/ymin': dataset_util.float_list_feature(ymins),\n",
    "        'image/object/bbox/ymax': dataset_util.float_list_feature(ymaxs),\n",
    "        'image/object/class/text': dataset_util.bytes_list_feature(classes_text),\n",
    "        'image/object/class/label': dataset_util.int64_list_feature(classes),\n",
    "    }))\n",
    "\n",
    "    return tf_record\n",
    "\n",
    "writer = tf.python_io.TFRecordWriter(TFRECORD_DESTINATION)\n",
    "\n",
    "print(\"Reading yaml...\")\n",
    "examples = yaml.load(open(INPUT_YAML, 'rb').read())\n",
    "\n",
    "len_examples = len(examples)\n",
    "print(\"Loaded \" + str(len(examples)) + \" examples...\")\n",
    "\n",
    "for i in range(len(examples)):\n",
    "    examples[i]['path'] = os.path.abspath(examples[i]['path'])\n",
    "    example = examples[i]\n",
    "    \n",
    "    tf_record = create_tf_record(example)\n",
    "    writer.write(tf_record.SerializeToString())\n",
    "\n",
    "writer.close()\n",
    "\n",
    "print(\"Done!\")"
   ]
  },
  {
   "cell_type": "code",
   "execution_count": null,
   "metadata": {},
   "outputs": [],
   "source": []
  },
  {
   "cell_type": "code",
   "execution_count": null,
   "metadata": {},
   "outputs": [],
   "source": []
  },
  {
   "cell_type": "code",
   "execution_count": null,
   "metadata": {},
   "outputs": [],
   "source": []
  },
  {
   "cell_type": "code",
   "execution_count": null,
   "metadata": {},
   "outputs": [],
   "source": []
  },
  {
   "cell_type": "code",
   "execution_count": null,
   "metadata": {},
   "outputs": [],
   "source": []
  },
  {
   "cell_type": "code",
   "execution_count": null,
   "metadata": {},
   "outputs": [],
   "source": []
  },
  {
   "cell_type": "code",
   "execution_count": null,
   "metadata": {},
   "outputs": [],
   "source": []
  },
  {
   "cell_type": "markdown",
   "metadata": {},
   "source": [
    "### Test detection code"
   ]
  },
  {
   "cell_type": "code",
   "execution_count": 7,
   "metadata": {},
   "outputs": [],
   "source": [
    "\n",
    "def filter_boxes(min_score, boxes, scores, classes):\n",
    "    \"\"\"Return boxes with a confidence >= `min_score`\"\"\"\n",
    "    n = len(classes)\n",
    "    idxs = []\n",
    "    for i in range(n):\n",
    "        if scores[i] >= min_score:\n",
    "            idxs.append(i)\n",
    "    \n",
    "    filtered_boxes = boxes[idxs, ...]\n",
    "    filtered_scores = scores[idxs, ...]\n",
    "    filtered_classes = classes[idxs, ...]\n",
    "    return filtered_boxes, filtered_scores, filtered_classes\n",
    "\n",
    "def to_image_coords(boxes, height, width):\n",
    "    \"\"\"\n",
    "    The original box coordinate output is normalized, i.e [0, 1].\n",
    "    \n",
    "    This converts it back to the original coordinate based on the image\n",
    "    size.\n",
    "    \"\"\"\n",
    "    box_coords = np.zeros_like(boxes)\n",
    "    box_coords[:, 0] = boxes[:, 0] * height\n",
    "    box_coords[:, 1] = boxes[:, 1] * width\n",
    "    box_coords[:, 2] = boxes[:, 2] * height\n",
    "    box_coords[:, 3] = boxes[:, 3] * width\n",
    "    \n",
    "    return box_coords\n",
    "\n",
    "def draw_boxes(image, boxes, classes, thickness=4):\n",
    "    \"\"\"Draw bounding boxes on the image\"\"\"\n",
    "    draw = ImageDraw.Draw(image)\n",
    "    for i in range(len(boxes)):\n",
    "        bot, left, top, right = boxes[i, ...]\n",
    "        class_id = int(classes[i])\n",
    "        color = COLOR_LIST[class_id]\n",
    "        draw.line([(left, top), (left, bot), (right, bot), (right, top), (left, top)], width=thickness, fill=color)\n",
    "        \n",
    "def load_graph(graph_file):\n",
    "    \"\"\"Loads a frozen inference graph\"\"\"\n",
    "    graph = tf.Graph()\n",
    "    with graph.as_default():\n",
    "        od_graph_def = tf.GraphDef()\n",
    "        with tf.gfile.GFile(graph_file, 'rb') as fid:\n",
    "            serialized_graph = fid.read()\n",
    "            od_graph_def.ParseFromString(serialized_graph)\n",
    "            tf.import_graph_def(od_graph_def, name='')\n",
    "    return graph\n",
    "\n",
    "def preprocess(img):\n",
    "    img = np.asarray(img)\n",
    "\n",
    "    clahe = cv2.createCLAHE(clipLimit=10.0, tileGridSize=(1,1))\n",
    "\n",
    "    img = cv2.cvtColor(img, cv2.COLOR_RGB2HSV)\n",
    "#     V_channel = img[:,:,1]\n",
    "#     img[:,:,1] = clahe.apply(img[:,:,1])\n",
    "    img[:,:,2] = clahe.apply(img[:,:,2])\n",
    "    img = cv2.cvtColor(img, cv2.COLOR_HSV2RGB)\n",
    "    return Image.fromarray(img)"
   ]
  },
  {
   "cell_type": "code",
   "execution_count": null,
   "metadata": {},
   "outputs": [],
   "source": []
  },
  {
   "cell_type": "code",
   "execution_count": null,
   "metadata": {},
   "outputs": [],
   "source": [
    "detection_graph = load_graph('./model/frozen_inference_graph.pb')\n",
    "\n",
    "# Colors (one for each class)\n",
    "cmap = ImageColor.colormap\n",
    "print(\"Number of colors =\", len(cmap))\n",
    "COLOR_LIST = sorted([c for c in cmap.keys()])\n",
    "\n",
    "# The input placeholder for the image.\n",
    "# `get_tensor_by_name` returns the Tensor with the associated name in the Graph.\n",
    "image_tensor = detection_graph.get_tensor_by_name('image_tensor:0')\n",
    "\n",
    "# Each box represents a part of the image where a particular object was detected.\n",
    "detection_boxes = detection_graph.get_tensor_by_name('detection_boxes:0')\n",
    "\n",
    "# Each score represent how level of confidence for each of the objects.\n",
    "# Score is shown on the result image, together with the class label.\n",
    "detection_scores = detection_graph.get_tensor_by_name('detection_scores:0')\n",
    "\n",
    "# The classification of the object (integer id).\n",
    "detection_classes = detection_graph.get_tensor_by_name('detection_classes:0')\n",
    "\n",
    "\n",
    "image = Image.open('./synthetic-dataset-2/images/synthetic-0.jpg')\n",
    "# image = preprocess(image)\n",
    "image_np = np.expand_dims(np.asarray(image, dtype=np.uint8), 0)\n",
    "\n",
    "with tf.Session(graph=detection_graph) as sess:                \n",
    "    # Actual detection.\n",
    "    (boxes, scores, classes) = sess.run([detection_boxes, detection_scores, detection_classes], \n",
    "                                        feed_dict={image_tensor: image_np})\n",
    "\n",
    "    # Remove unnecessary dimensions\n",
    "    boxes = np.squeeze(boxes)\n",
    "    scores = np.squeeze(scores)\n",
    "    classes = np.squeeze(classes)\n",
    "\n",
    "    confidence_cutoff = 0.3\n",
    "    # Filter boxes with a confidence score less than `confidence_cutoff`\n",
    "    boxes, scores, classes = filter_boxes(confidence_cutoff, boxes, scores, classes)\n",
    "\n",
    "    # The current box coordinates are normalized to a range between 0 and 1.\n",
    "    # This converts the coordinates actual location on the image.\n",
    "    width, height = image.size\n",
    "    box_coords = to_image_coords(boxes, height, width)\n",
    "\n",
    "    # Each class with be represented by a differently colored box\n",
    "    draw_boxes(image, box_coords, classes)\n",
    "#     print(detection_classes)\n",
    "    print(classes)\n",
    "\n",
    "    plt.figure(figsize=(12, 8))\n",
    "    plt.imshow(image) "
   ]
  },
  {
   "cell_type": "markdown",
   "metadata": {},
   "source": [
    "## Timing Detection\n",
    "\n",
    "The model zoo comes with a variety of models, each its benefits and costs. Below you'll time some of these models. The general tradeoff being sacrificing model accuracy for seconds per frame (SPF)."
   ]
  },
  {
   "cell_type": "code",
   "execution_count": 4,
   "metadata": {},
   "outputs": [],
   "source": [
    "def time_detection(sess, img_height, img_width, runs=10):\n",
    "    image_tensor = sess.graph.get_tensor_by_name('image_tensor:0')\n",
    "    detection_boxes = sess.graph.get_tensor_by_name('detection_boxes:0')\n",
    "    detection_scores = sess.graph.get_tensor_by_name('detection_scores:0')\n",
    "    detection_classes = sess.graph.get_tensor_by_name('detection_classes:0')\n",
    "\n",
    "    # warmup\n",
    "    gen_image = np.uint8(np.random.randn(1, img_height, img_width, 3))\n",
    "    sess.run([detection_boxes, detection_scores, detection_classes], feed_dict={image_tensor: gen_image})\n",
    "    \n",
    "    times = np.zeros(runs)\n",
    "    for i in range(runs):\n",
    "        t0 = time.time()\n",
    "        sess.run([detection_boxes, detection_scores, detection_classes], feed_dict={image_tensor: image_np})\n",
    "        t1 = time.time()\n",
    "        times[i] = (t1 - t0) * 1000\n",
    "    return times"
   ]
  },
  {
   "cell_type": "code",
   "execution_count": null,
   "metadata": {},
   "outputs": [],
   "source": []
  },
  {
   "cell_type": "code",
   "execution_count": 5,
   "metadata": {},
   "outputs": [],
   "source": [
    "with tf.Session(graph=detection_graph) as sess:\n",
    "    times = time_detection(sess, 600, 1000, runs=10)"
   ]
  },
  {
   "cell_type": "code",
   "execution_count": 10,
   "metadata": {},
   "outputs": [
    {
     "data": {
      "image/png": "[encoded data removed]",
      "text/plain": [
       "<Figure size 648x432 with 1 Axes>"
      ]
     },
     "metadata": {
      "needs_background": "light"
     },
     "output_type": "display_data"
    }
   ],
   "source": [
    "# Create a figure instance\n",
    "fig = plt.figure(1, figsize=(9, 6))\n",
    "\n",
    "# Create an axes instance\n",
    "ax = fig.add_subplot(111)\n",
    "plt.title(\"Object Detection Timings\")\n",
    "plt.ylabel(\"Time (ms)\")\n",
    "\n",
    "# Create the boxplot\n",
    "plt.style.use('fivethirtyeight')\n",
    "bp = ax.boxplot(times)"
   ]
  },
  {
   "cell_type": "code",
   "execution_count": null,
   "metadata": {},
   "outputs": [],
   "source": []
  },
  {
   "cell_type": "code",
   "execution_count": null,
   "metadata": {},
   "outputs": [],
   "source": []
  },
  {
   "cell_type": "code",
   "execution_count": null,
   "metadata": {},
   "outputs": [],
   "source": []
  },
  {
   "cell_type": "code",
   "execution_count": null,
   "metadata": {},
   "outputs": [],
   "source": []
  },
  {
   "cell_type": "markdown",
   "metadata": {},
   "source": [
    "### Exercise 4 - Model Tradeoffs\n",
    "\n",
    "Download a few models from the [model zoo](https://github.com/tensorflow/models/blob/master/research/object_detection/g3doc/detection_model_zoo.md) and compare the timings."
   ]
  },
  {
   "cell_type": "markdown",
   "metadata": {},
   "source": [
    "## Detection on a Video\n",
    "\n",
    "Finally run your pipeline on [this short video](https://s3-us-west-1.amazonaws.com/udacity-selfdrivingcar/advanced_deep_learning/driving.mp4)."
   ]
  },
  {
   "cell_type": "code",
   "execution_count": 11,
   "metadata": {},
   "outputs": [],
   "source": [
    "# Import everything needed to edit/save/watch video clips\n",
    "from moviepy.editor import VideoFileClip\n",
    "from IPython.display import HTML"
   ]
  },
  {
   "cell_type": "code",
   "execution_count": null,
   "metadata": {},
   "outputs": [],
   "source": []
  },
  {
   "cell_type": "code",
   "execution_count": 12,
   "metadata": {},
   "outputs": [
    {
     "data": {
      "text/html": [
       "\n",
       "<video width=\"960\" height=\"600\" controls>\n",
       "  <source src=\"driving.mp4\" type=\"video/mp4\">\n",
       "</video>\n"
      ],
      "text/plain": [
       "<IPython.core.display.HTML object>"
      ]
     },
     "execution_count": 12,
     "metadata": {},
     "output_type": "execute_result"
    }
   ],
   "source": [
    "HTML(\"\"\"\n",
    "<video width=\"960\" height=\"600\" controls>\n",
    "  <source src=\"{0}\" type=\"video/mp4\">\n",
    "</video>\n",
    "\"\"\".format('driving.mp4'))"
   ]
  },
  {
   "cell_type": "code",
   "execution_count": null,
   "metadata": {},
   "outputs": [],
   "source": []
  },
  {
   "cell_type": "markdown",
   "metadata": {
    "collapsed": true
   },
   "source": [
    "### Exercise 5 - Object Detection on a Video\n",
    "\n",
    "Run an object detection pipeline on the above clip."
   ]
  },
  {
   "cell_type": "code",
   "execution_count": 13,
   "metadata": {},
   "outputs": [],
   "source": [
    "clip = VideoFileClip('driving.mp4')"
   ]
  },
  {
   "cell_type": "code",
   "execution_count": 29,
   "metadata": {},
   "outputs": [],
   "source": [
    "# TODO: Complete this function.\n",
    "# The input is an NumPy array.\n",
    "# The output should also be a NumPy array.\n",
    "def pipeline(img):\n",
    "    draw_img = Image.fromarray(img)\n",
    "    # Actual detection.\n",
    "    (boxes, scores, classes) = sess.run([detection_boxes, detection_scores, detection_classes], \n",
    "                                        feed_dict={image_tensor: np.expand_dims(img, 0)})\n",
    "\n",
    "    # Remove unnecessary dimensions\n",
    "    boxes = np.squeeze(boxes)\n",
    "    scores = np.squeeze(scores)\n",
    "    classes = np.squeeze(classes)\n",
    "\n",
    "    confidence_cutoff = 0.3\n",
    "    # Filter boxes with a confidence score less than `confidence_cutoff`\n",
    "    boxes, scores, classes = filter_boxes(confidence_cutoff, boxes, scores, classes)\n",
    "\n",
    "    # The current box coordinates are normalized to a range between 0 and 1.\n",
    "    # This converts the coordinates actual location on the image.\n",
    "    width, height = draw_img.size\n",
    "    box_coords = to_image_coords(boxes, height, width)\n",
    "\n",
    "    # Each class with be represented by a differently colored box\n",
    "    draw_boxes(draw_img, box_coords, classes)\n",
    "    return np.array(draw_img)"
   ]
  },
  {
   "cell_type": "code",
   "execution_count": null,
   "metadata": {},
   "outputs": [],
   "source": []
  },
  {
   "cell_type": "code",
   "execution_count": null,
   "metadata": {},
   "outputs": [],
   "source": []
  },
  {
   "cell_type": "code",
   "execution_count": null,
   "metadata": {},
   "outputs": [],
   "source": []
  },
  {
   "cell_type": "code",
   "execution_count": null,
   "metadata": {},
   "outputs": [],
   "source": []
  },
  {
   "cell_type": "code",
   "execution_count": null,
   "metadata": {},
   "outputs": [],
   "source": []
  },
  {
   "cell_type": "code",
   "execution_count": null,
   "metadata": {},
   "outputs": [],
   "source": []
  },
  {
   "cell_type": "markdown",
   "metadata": {},
   "source": [
    "**[Sample solution](./exercise-solutions/e5.py)**"
   ]
  },
  {
   "cell_type": "code",
   "execution_count": 30,
   "metadata": {},
   "outputs": [
    {
     "name": "stdout",
     "output_type": "stream",
     "text": [
      "[MoviePy] >>>> Building video result.mp4\n",
      "[MoviePy] Writing video result.mp4\n"
     ]
    },
    {
     "name": "stderr",
     "output_type": "stream",
     "text": [
      "100%|██████████| 1782/1782 [07:31<00:00,  3.95it/s]\n"
     ]
    },
    {
     "name": "stdout",
     "output_type": "stream",
     "text": [
      "[MoviePy] Done.\n",
      "[MoviePy] >>>> Video ready: result.mp4 \n",
      "\n"
     ]
    }
   ],
   "source": [
    "with tf.Session(graph=detection_graph) as sess:\n",
    "    image_tensor = sess.graph.get_tensor_by_name('image_tensor:0')\n",
    "    detection_boxes = sess.graph.get_tensor_by_name('detection_boxes:0')\n",
    "    detection_scores = sess.graph.get_tensor_by_name('detection_scores:0')\n",
    "    detection_classes = sess.graph.get_tensor_by_name('detection_classes:0')\n",
    "    \n",
    "    new_clip = clip.fl_image(pipeline)\n",
    "    \n",
    "    # write to file\n",
    "    new_clip.write_videofile('result.mp4', audio=False)"
   ]
  },
  {
   "cell_type": "code",
   "execution_count": null,
   "metadata": {},
   "outputs": [],
   "source": []
  },
  {
   "cell_type": "code",
   "execution_count": null,
   "metadata": {},
   "outputs": [],
   "source": []
  },
  {
   "cell_type": "code",
   "execution_count": null,
   "metadata": {},
   "outputs": [],
   "source": []
  },
  {
   "cell_type": "code",
   "execution_count": null,
   "metadata": {},
   "outputs": [],
   "source": []
  },
  {
   "cell_type": "code",
   "execution_count": null,
   "metadata": {},
   "outputs": [],
   "source": []
  },
  {
   "cell_type": "code",
   "execution_count": 26,
   "metadata": {},
   "outputs": [
    {
     "data": {
      "text/html": [
       "\n",
       "<video width=\"960\" height=\"600\" controls>\n",
       "  <source src=\"result.mp4\" type=\"video/mp4\">\n",
       "</video>\n"
      ],
      "text/plain": [
       "<IPython.core.display.HTML object>"
      ]
     },
     "execution_count": 26,
     "metadata": {},
     "output_type": "execute_result"
    }
   ],
   "source": [
    "HTML(\"\"\"\n",
    "<video width=\"960\" height=\"600\" controls>\n",
    "  <source src=\"{0}\" type=\"video/mp4\">\n",
    "</video>\n",
    "\"\"\".format('result.mp4'))"
   ]
  },
  {
   "cell_type": "code",
   "execution_count": null,
   "metadata": {},
   "outputs": [],
   "source": []
  },
  {
   "cell_type": "code",
   "execution_count": null,
   "metadata": {},
   "outputs": [],
   "source": []
  },
  {
   "cell_type": "markdown",
   "metadata": {},
   "source": [
    "## Further Exploration\n",
    "\n",
    "Some ideas to take things further:\n",
    "\n",
    "* Finetune the model on a new dataset more relevant to autonomous vehicles. Instead of loading the frozen inference graph you'll load the checkpoint.\n",
    "* Optimize the model and get the FPS as low as possible.\n",
    "* Build your own detector. There are several base model pretrained on ImageNet you can choose from. [Keras](https://keras.io/applications/) is probably the quickest way to get setup in this regard.\n"
   ]
  },
  {
   "cell_type": "code",
   "execution_count": null,
   "metadata": {},
   "outputs": [],
   "source": []
  }
 ],
 "metadata": {
  "kernelspec": {
   "display_name": "Python 3",
   "language": "python",
   "name": "python3"
  },
  "language_info": {
   "codemirror_mode": {
    "name": "ipython",
    "version": 2
   },
   "file_extension": ".py",
   "mimetype": "text/x-python",
   "name": "python",
   "nbconvert_exporter": "python",
   "pygments_lexer": "ipython2",
   "version": "2.7.15"
  },
  "widgets": {
   "state": {},
   "version": "1.1.2"
  }
 },
 "nbformat": 4,
 "nbformat_minor": 2
}
