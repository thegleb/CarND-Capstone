{
 "cells": [
  {
   "cell_type": "code",
   "execution_count": 1,
   "metadata": {},
   "outputs": [],
   "source": [
    "import tensorflow as tf\n",
    "\n",
    "import cv2\n",
    "import functools\n",
    "import json\n",
    "import math\n",
    "import matplotlib.pyplot as plt\n",
    "import numpy as np\n",
    "import os\n",
    "import random\n",
    "import time\n",
    "import xml.etree.ElementTree as ET\n",
    "import yaml\n",
    "\n",
    "from object_detection.utils import dataset_util\n",
    "from PIL import Image\n",
    "from PIL import ImageDraw\n",
    "from PIL import ImageColor\n",
    "from PIL import ImageFilter\n",
    "from scipy.stats import norm\n",
    "from shapely.geometry import Polygon\n",
    "from shapely import affinity\n",
    "\n",
    "\n",
    "%matplotlib inline\n",
    "plt.style.use('ggplot')"
   ]
  },
  {
   "cell_type": "code",
   "execution_count": null,
   "metadata": {},
   "outputs": [],
   "source": []
  },
  {
   "cell_type": "markdown",
   "metadata": {},
   "source": [
    "## Create synthetic training data"
   ]
  },
  {
   "cell_type": "code",
   "execution_count": 11,
   "metadata": {
    "scrolled": true
   },
   "outputs": [
    {
     "ename": "IOError",
     "evalue": "[Errno 2] No such file or directory: './evaluation-dataset/site/synthetic-0.xml'",
     "output_type": "error",
     "traceback": [
      "\u001b[0;31m---------------------------------------------------------------------------\u001b[0m",
      "\u001b[0;31mIOError\u001b[0m                                   Traceback (most recent call last)",
      "\u001b[0;32m<ipython-input-11-213cf855ca5c>\u001b[0m in \u001b[0;36m<module>\u001b[0;34m()\u001b[0m\n\u001b[1;32m    341\u001b[0m \u001b[0;34m\u001b[0m\u001b[0m\n\u001b[1;32m    342\u001b[0m     \u001b[0mannotation\u001b[0m \u001b[0;34m=\u001b[0m \u001b[0mcreate_xml\u001b[0m\u001b[0;34m(\u001b[0m\u001b[0mfilename\u001b[0m \u001b[0;34m+\u001b[0m \u001b[0;34m'.jpg'\u001b[0m\u001b[0;34m,\u001b[0m \u001b[0mbg_width\u001b[0m\u001b[0;34m,\u001b[0m \u001b[0mbg_height\u001b[0m\u001b[0;34m,\u001b[0m \u001b[0mbounding_boxes\u001b[0m\u001b[0;34m,\u001b[0m \u001b[0mlabels\u001b[0m\u001b[0;34m)\u001b[0m\u001b[0;34m\u001b[0m\u001b[0m\n\u001b[0;32m--> 343\u001b[0;31m     \u001b[0mET\u001b[0m\u001b[0;34m.\u001b[0m\u001b[0mElementTree\u001b[0m\u001b[0;34m(\u001b[0m\u001b[0mannotation\u001b[0m\u001b[0;34m)\u001b[0m\u001b[0;34m.\u001b[0m\u001b[0mwrite\u001b[0m\u001b[0;34m(\u001b[0m\u001b[0mdest_folder\u001b[0m \u001b[0;34m+\u001b[0m \u001b[0mfilename\u001b[0m \u001b[0;34m+\u001b[0m \u001b[0;34m'.xml'\u001b[0m\u001b[0;34m)\u001b[0m\u001b[0;34m\u001b[0m\u001b[0m\n\u001b[0m\u001b[1;32m    344\u001b[0m     \u001b[0mimage_filename\u001b[0m \u001b[0;34m=\u001b[0m \u001b[0mdest_folder\u001b[0m \u001b[0;34m+\u001b[0m \u001b[0mfilename\u001b[0m \u001b[0;34m+\u001b[0m \u001b[0;34m'.jpg'\u001b[0m\u001b[0;34m\u001b[0m\u001b[0m\n\u001b[1;32m    345\u001b[0m \u001b[0;34m\u001b[0m\u001b[0m\n",
      "\u001b[0;32m/home/david/miniconda3/envs/carnd-capstone/lib/python2.7/xml/etree/ElementTree.pyc\u001b[0m in \u001b[0;36mwrite\u001b[0;34m(self, file_or_filename, encoding, xml_declaration, default_namespace, method)\u001b[0m\n\u001b[1;32m    800\u001b[0m             \u001b[0mfile\u001b[0m \u001b[0;34m=\u001b[0m \u001b[0mfile_or_filename\u001b[0m\u001b[0;34m\u001b[0m\u001b[0m\n\u001b[1;32m    801\u001b[0m         \u001b[0;32melse\u001b[0m\u001b[0;34m:\u001b[0m\u001b[0;34m\u001b[0m\u001b[0m\n\u001b[0;32m--> 802\u001b[0;31m             \u001b[0mfile\u001b[0m \u001b[0;34m=\u001b[0m \u001b[0mopen\u001b[0m\u001b[0;34m(\u001b[0m\u001b[0mfile_or_filename\u001b[0m\u001b[0;34m,\u001b[0m \u001b[0;34m\"wb\"\u001b[0m\u001b[0;34m)\u001b[0m\u001b[0;34m\u001b[0m\u001b[0m\n\u001b[0m\u001b[1;32m    803\u001b[0m         \u001b[0mwrite\u001b[0m \u001b[0;34m=\u001b[0m \u001b[0mfile\u001b[0m\u001b[0;34m.\u001b[0m\u001b[0mwrite\u001b[0m\u001b[0;34m\u001b[0m\u001b[0m\n\u001b[1;32m    804\u001b[0m         \u001b[0;32mif\u001b[0m \u001b[0;32mnot\u001b[0m \u001b[0mencoding\u001b[0m\u001b[0;34m:\u001b[0m\u001b[0;34m\u001b[0m\u001b[0m\n",
      "\u001b[0;31mIOError\u001b[0m: [Errno 2] No such file or directory: './evaluation-dataset/site/synthetic-0.xml'"
     ]
    }
   ],
   "source": [
    "sim_backgrounds = [\n",
    "    'synthetic-data/backgrounds/sim/bg-1.jpg',\n",
    "    'synthetic-data/backgrounds/sim/bg-2.jpg',\n",
    "    'synthetic-data/backgrounds/sim/bg-3.jpg',\n",
    "    'synthetic-data/backgrounds/sim/bg-4.jpg',\n",
    "    'synthetic-data/backgrounds/sim/bg-5.jpg',\n",
    "    'synthetic-data/backgrounds/sim/bg-6.jpg',\n",
    "    'synthetic-data/backgrounds/sim/bg-7.jpg',\n",
    "    'synthetic-data/backgrounds/sim/bg-8.jpg',\n",
    "    'synthetic-data/backgrounds/sim/bg-9.jpg',\n",
    "    'synthetic-data/backgrounds/sim/bg-10.jpg',\n",
    "    'synthetic-data/backgrounds/sim/bg-11.jpg',\n",
    "    'synthetic-data/backgrounds/sim/bg-12.jpg',\n",
    "    'synthetic-data/backgrounds/sim/bg-13.jpg',\n",
    "    'synthetic-data/backgrounds/sim/bg-14.jpg',\n",
    "    'synthetic-data/backgrounds/sim/bg-15.jpg',\n",
    "    'synthetic-data/backgrounds/sim/bg-16.jpg',\n",
    "    'synthetic-data/backgrounds/sim/bg-17.jpg',\n",
    "    'synthetic-data/backgrounds/sim/bg-18.jpg',\n",
    "    'synthetic-data/backgrounds/sim/bg-19.jpg',\n",
    "    'synthetic-data/backgrounds/sim/bg-20.jpg',\n",
    "    'synthetic-data/backgrounds/sim/bg-21.jpg',\n",
    "    'synthetic-data/backgrounds/sim/bg-22.jpg',\n",
    "    'synthetic-data/backgrounds/sim/bg-23.jpg',\n",
    "    'synthetic-data/backgrounds/sim/bg-24.jpg',\n",
    "    'synthetic-data/backgrounds/sim/bg-25.jpg',\n",
    "    'synthetic-data/backgrounds/sim/bg-26.jpg',\n",
    "    'synthetic-data/backgrounds/sim/bg-27.jpg',\n",
    "    'synthetic-data/backgrounds/sim/bg-28.jpg',\n",
    "    'synthetic-data/backgrounds/sim/bg-29.jpg',\n",
    "    'synthetic-data/backgrounds/sim/bg-30.jpg'\n",
    "]\n",
    "sim_red = [\n",
    "    'synthetic-data/elements/sim/red-large.jpg',\n",
    "    'synthetic-data/elements/sim/red-medium.jpg',\n",
    "    'synthetic-data/elements/sim/red-small.jpg'\n",
    "]\n",
    "sim_green = [\n",
    "    'synthetic-data/elements/sim/green-large.jpg',\n",
    "    'synthetic-data/elements/sim/green-medium.jpg',\n",
    "    'synthetic-data/elements/sim/green-small.jpg'\n",
    "]\n",
    "sim_yellow = [\n",
    "    'synthetic-data/elements/sim/yellow-large.jpg',\n",
    "    'synthetic-data/elements/sim/yellow-medium.jpg',\n",
    "    'synthetic-data/elements/sim/yellow-small.jpg'\n",
    "]\n",
    "\n",
    "site_backgrounds = [\n",
    "    'synthetic-data/backgrounds/site/bg-1.jpg',\n",
    "    'synthetic-data/backgrounds/site/bg-2.jpg',\n",
    "    'synthetic-data/backgrounds/site/bg-3.jpg',\n",
    "    'synthetic-data/backgrounds/site/bg-4.jpg',\n",
    "    'synthetic-data/backgrounds/site/bg-5.jpg',\n",
    "    'synthetic-data/backgrounds/site/bg-6.jpg',\n",
    "    'synthetic-data/backgrounds/site/bg-7.jpg',\n",
    "    'synthetic-data/backgrounds/site/bg-8.jpg',\n",
    "    'synthetic-data/backgrounds/site/bg-9.jpg',\n",
    "    'synthetic-data/backgrounds/site/bg-10.jpg',\n",
    "    'synthetic-data/backgrounds/site/bg-11.jpg',\n",
    "    'synthetic-data/backgrounds/site/bg-12.jpg'\n",
    "]\n",
    "site_red = [\n",
    "    'synthetic-data/elements/site/red-1.jpg',\n",
    "    'synthetic-data/elements/site/red-2.jpg',\n",
    "    'synthetic-data/elements/site/red-3.jpg',\n",
    "    'synthetic-data/elements/site/red-4.jpg',\n",
    "    'synthetic-data/elements/site/red-5.jpg',\n",
    "    'synthetic-data/elements/site/red-6.jpg',\n",
    "    'synthetic-data/elements/site/red-7.jpg',\n",
    "    'synthetic-data/elements/site/red-8.jpg',\n",
    "    'synthetic-data/elements/site/red-9.jpg',\n",
    "    'synthetic-data/elements/site/red-10.jpg',\n",
    "    'synthetic-data/elements/site/red-11.jpg',\n",
    "    'synthetic-data/elements/site/red-12.jpg',\n",
    "    'synthetic-data/elements/site/red-13.jpg',\n",
    "    'synthetic-data/elements/site/red-14.jpg',\n",
    "]\n",
    "site_green = [\n",
    "    'synthetic-data/elements/site/green-1.jpg',\n",
    "    'synthetic-data/elements/site/green-2.jpg',\n",
    "    'synthetic-data/elements/site/green-3.jpg',\n",
    "    'synthetic-data/elements/site/green-4.jpg',\n",
    "    'synthetic-data/elements/site/green-5.jpg',\n",
    "    'synthetic-data/elements/site/green-6.jpg',\n",
    "    'synthetic-data/elements/site/green-7.jpg',\n",
    "    'synthetic-data/elements/site/green-8.jpg',\n",
    "    'synthetic-data/elements/site/green-9.jpg',\n",
    "    'synthetic-data/elements/site/green-10.jpg',\n",
    "    'synthetic-data/elements/site/green-11.jpg',\n",
    "    'synthetic-data/elements/site/green-12.jpg',\n",
    "]\n",
    "site_yellow = [\n",
    "    'synthetic-data/elements/site/yellow-1.jpg',\n",
    "    'synthetic-data/elements/site/yellow-2.jpg',\n",
    "    'synthetic-data/elements/site/yellow-3.jpg',\n",
    "    'synthetic-data/elements/site/yellow-4.jpg',\n",
    "    'synthetic-data/elements/site/yellow-5.jpg',\n",
    "    'synthetic-data/elements/site/yellow-6.jpg',\n",
    "    'synthetic-data/elements/site/yellow-7.jpg',\n",
    "    'synthetic-data/elements/site/yellow-8.jpg',\n",
    "    'synthetic-data/elements/site/yellow-9.jpg',\n",
    "    'synthetic-data/elements/site/yellow-10.jpg',\n",
    "    'synthetic-data/elements/site/yellow-11.jpg',\n",
    "]\n",
    "\n",
    "def adjust_gamma(image, gamma=1.0):\n",
    "    invGamma = 1.0 / gamma\n",
    "    table = np.array([\n",
    "      ((i / 255.0) ** invGamma) * 255\n",
    "      for i in np.arange(0, 256)])\n",
    "    return cv2.LUT(image.astype(np.uint8), table.astype(np.uint8))\n",
    "\n",
    "def adjust_gamma(img, gamma=1.0):\n",
    "    inv_gamma = 1.0 / gamma\n",
    "    table = np.array([\n",
    "      ((i / 255.0) ** inv_gamma) * 255\n",
    "      for i in np.arange(0, 256)])\n",
    "    return cv2.LUT(img.astype(np.uint8), table.astype(np.uint8))\n",
    "\n",
    "def adjust_contrast(img):\n",
    "    clahe = cv2.createCLAHE(clipLimit=4.0, tileGridSize=(2,2))\n",
    "    img = cv2.cvtColor(img, cv2.COLOR_RGB2LAB)\n",
    "    img[:,:,0] = clahe.apply(img[:,:,0])\n",
    "    img = cv2.cvtColor(img, cv2.COLOR_LAB2RGB)\n",
    "    return img\n",
    "\n",
    "def preprocess(img, gamma):\n",
    "    img = adjust_contrast(img)\n",
    "    img = adjust_gamma(img, gamma)\n",
    "    return img\n",
    "\n",
    "def create_object(wrapper, label, bounding_box):\n",
    "    obj = ET.SubElement(wrapper, 'object')\n",
    "\n",
    "    name = ET.SubElement(obj, 'name')\n",
    "    name.text = label\n",
    "    \n",
    "    pose = ET.SubElement(obj, 'pose')\n",
    "    pose.text = 'Unspecified'\n",
    "    \n",
    "    truncated = ET.SubElement(obj, 'truncated')\n",
    "    truncated.text = str(0)\n",
    "    \n",
    "    difficult = ET.SubElement(obj, 'difficult')\n",
    "    difficult.text = str(0)\n",
    "\n",
    "    bndbox = ET.SubElement(obj, 'bndbox')\n",
    "\n",
    "    xmin = ET.SubElement(bndbox, 'xmin')\n",
    "    xmin.text = str(bounding_box[0])\n",
    "\n",
    "    ymin = ET.SubElement(bndbox, 'ymin')\n",
    "    ymin.text = str(bounding_box[1])\n",
    "\n",
    "    xmax = ET.SubElement(bndbox, 'xmax')\n",
    "    xmax.text = str(bounding_box[2])\n",
    "\n",
    "    ymax = ET.SubElement(bndbox, 'ymax')\n",
    "    ymax.text = str(bounding_box[3])\n",
    "\n",
    "def create_xml(name, width, height, bounding_boxes, labels):\n",
    "    annotation = ET.Element('annotation')\n",
    "    \n",
    "    filename = ET.SubElement(annotation, 'filename')\n",
    "    filename.text = name\n",
    "    \n",
    "    size = ET.SubElement(annotation, 'size')\n",
    "\n",
    "    w = ET.SubElement(size, 'width')\n",
    "    w.text = str(width)\n",
    "\n",
    "    h = ET.SubElement(size, 'height')\n",
    "    h.text = str(height)\n",
    "\n",
    "    depth = ET.SubElement(size, 'depth')\n",
    "    depth.text = str(3)\n",
    "    \n",
    "    segmented = ET.SubElement(annotation, 'segmented')\n",
    "    segmented.text = str(0)\n",
    "    \n",
    "    for i in range(len(bounding_boxes)):\n",
    "        create_object(annotation, labels[i], bounding_boxes[i])\n",
    "    return annotation\n",
    "    \n",
    "def find_overlapping_bounding_box(bounding_boxes, new_bounding_box):\n",
    "    max_intersection = 0\n",
    "    for i in range(len(bounding_boxes)):\n",
    "        min_x, min_y, max_x, max_y = bounding_boxes[i]\n",
    "        new_min_x, new_min_y, new_max_x, new_max_y = new_bounding_box\n",
    "#         print(new_bounding_box)\n",
    "        existing_bb = Polygon([\n",
    "            (min_x, min_y),\n",
    "            (max_x, min_y),\n",
    "            (max_x, max_y),\n",
    "            (min_x, max_y)\n",
    "        ])\n",
    "        new_bb= Polygon([\n",
    "            (new_min_x, new_min_y),\n",
    "            (new_max_x, new_min_y),\n",
    "            (new_max_x, new_max_y),\n",
    "            (new_min_x, new_max_y)\n",
    "        ])\n",
    "        intersection = existing_bb.intersection(new_bb)\n",
    "        area_of_overlap = intersection.area / new_bb.area if new_bb.area < existing_bb.area else intersection.area / existing_bb.area\n",
    "\n",
    "        if area_of_overlap > max_intersection:\n",
    "            max_intersection = area_of_overlap\n",
    "    return max_intersection\n",
    "        \n",
    "def rotate_bb(bb, degrees):\n",
    "    min_x, min_y, max_x, max_y = bb\n",
    "    poly = Polygon([\n",
    "        (min_x, min_y),\n",
    "        (max_x, min_y),\n",
    "        (max_x, max_y),\n",
    "        (min_x, max_y)\n",
    "    ])\n",
    "    modified = affinity.rotate(poly, degrees)\n",
    "    min_x, min_y, max_x, max_y = modified.bounds\n",
    "    return [int(min_x), int(max_y), int(max_x), int(min_y)]\n",
    "    \n",
    "def rescale_bb(bb, ratio):\n",
    "    min_x, min_y, max_x, max_y = bb\n",
    "    poly = Polygon([\n",
    "        (min_x, min_y),\n",
    "        (max_x, min_y),\n",
    "        (max_x, max_y),\n",
    "        (min_x, max_y)\n",
    "    ])\n",
    "    modified = affinity.scale(poly, xfact=ratio, yfact=ratio)\n",
    "    \n",
    "    min_x, min_y, max_x, max_y = modified.bounds\n",
    "    return [int(min_x), int(max_y), int(max_x), int(min_y)]\n",
    "\n",
    "def add_to_image(bg, img_set, num, other_bounding_boxes):\n",
    "    bounding_boxes = []\n",
    "    for num_light in range(random.randint(1, num)):\n",
    "        # 0 = large, 1 = medium, 2 = small\n",
    "        img_num = random.randint(0, len(img_set) - 1)\n",
    "        synth_image = Image.open(img_set[img_num]).convert('RGBA')\n",
    "        \n",
    "        # 50 percent chance of flipping the image horizontally\n",
    "        flip_chance = random.uniform(0.0, 1.0)\n",
    "        if flip_chance > 0.5:\n",
    "            synth_image.transpose(Image.FLIP_LEFT_RIGHT)\n",
    "            \n",
    "        # get the element dimensions\n",
    "        light_width, light_height = synth_image.size\n",
    "        bg_width, bg_height = bg.size\n",
    "\n",
    "        # random rotation/rescale rtios\n",
    "        degrees = random.uniform(-3.0, 3.0)\n",
    "        ratio = random.uniform(0.9, 1.8)\n",
    "#         if img_num == 0:\n",
    "#             # large images\n",
    "#             ratio = random.uniform(0.5, 1.5)\n",
    "#         elif img_num == 1:\n",
    "#             # medium images\n",
    "#             ratio = random.uniform(0.5, 1.5)\n",
    "#         else:\n",
    "#             # small images\n",
    "#             ratio = random.uniform(0.7, 1.0)\n",
    "\n",
    "        while True:\n",
    "            upper_left_x = random.randint(-light_width / 2, bg_width - light_width / 2)\n",
    "            upper_left_y = random.randint(-light_width / 2, bg_height + light_height / 2 - float(bg_height) * 0.4)\n",
    "\n",
    "            bounding_box = rescale_bb(rotate_bb([\n",
    "                upper_left_x,\n",
    "                upper_left_y + light_height,\n",
    "                upper_left_x + light_width,\n",
    "                upper_left_y\n",
    "            ], degrees), ratio)\n",
    "\n",
    "            overlap = find_overlapping_bounding_box(bounding_boxes + other_bounding_boxes, bounding_box)\n",
    "            # check to make sure this isn't osverlapping an existing image, and isn't over 50% off screen\n",
    "            if overlap < 0.15 and bounding_box[3] < bg.size[1] - light_height / 2 and bounding_box[2] < bg.size[0] - light_width / 2:\n",
    "                break\n",
    "        \n",
    "        # apply random rotation\n",
    "        rotated_image = synth_image.rotate(degrees, expand=1)\n",
    "        # apply random resizing\n",
    "        rescaled_image = rotated_image.resize(\n",
    "            (int(rotated_image.width * ratio), int(rotated_image.height * ratio)),\n",
    "            resample=Image.BICUBIC\n",
    "        )\n",
    "        final_image = rescaled_image\n",
    "        final_light_width, final_light_height = final_image.size\n",
    "        # apply random gaussian blur to larger images\n",
    "#         print('final_light_height', final_light_height)\n",
    "        if final_light_height > 150:\n",
    "            final_image = rescaled_image.filter(ImageFilter.GaussianBlur(radius=random.randint(0,1))) \n",
    "        bg.paste(\n",
    "            final_image,\n",
    "            (bounding_box[0], bounding_box[3]),\n",
    "            final_image\n",
    "        )\n",
    "\n",
    "        # bounding box is in the format xmin, ymin, xmax, ymax\n",
    "        bounding_boxes.append(bounding_box)\n",
    "    return bounding_boxes\n",
    "\n",
    "# at most we want the light half-obscured\n",
    "# currently this outputs images and labels to a directory called output/ (model-playground/output/)\n",
    "all_images = []\n",
    "all_labels = []\n",
    "entries = []\n",
    "dest_folder = './evaluation-dataset/site/'\n",
    "yaml_path = './evaluation-dataset/site/images.yaml'\n",
    "backgrounds = site_backgrounds\n",
    "green = site_green\n",
    "yellow = site_yellow\n",
    "red = site_red\n",
    "\n",
    "num_backgrounds = len(backgrounds)\n",
    "\n",
    "for i in range(2000):\n",
    "    bg = Image.open(backgrounds[random.randint(0, num_backgrounds - 1)])\n",
    "\n",
    "    filename = 'synthetic-' + str(i)\n",
    "    bounding_boxes = []\n",
    "    labels = []\n",
    "\n",
    "    new_bounding_boxes = add_to_image(bg, green, 3, bounding_boxes)\n",
    "    for i in range(len(new_bounding_boxes)):\n",
    "        labels.append('Green_light')\n",
    "        bounding_boxes.append(new_bounding_boxes[i])\n",
    "\n",
    "    new_bounding_boxes = add_to_image(bg, yellow, 3, bounding_boxes)\n",
    "    for i in range(len(new_bounding_boxes)):\n",
    "        labels.append('Yellow_light')\n",
    "        bounding_boxes.append(new_bounding_boxes[i])\n",
    "\n",
    "    new_bounding_boxes = add_to_image(bg, red, 3, bounding_boxes)\n",
    "    for i in range(len(new_bounding_boxes)):\n",
    "        labels.append('Red_light')\n",
    "        bounding_boxes.append(new_bounding_boxes[i])\n",
    "\n",
    "    bg_width, bg_height = bg.size\n",
    "    \n",
    "    annotation = create_xml(filename + '.jpg', bg_width, bg_height, bounding_boxes, labels)\n",
    "    ET.ElementTree(annotation).write(dest_folder + filename + '.xml')\n",
    "    image_filename = dest_folder + filename + '.jpg'\n",
    "    \n",
    "    bg = Image.fromarray(preprocess(np.asarray(bg), random.uniform(0.4, 0.6)))\n",
    "    bg.save(image_filename)\n",
    "    \n",
    "    # everything below is for writing yaml file for the tfrecord conversion\n",
    "    all_labels.append([bounding_boxes, labels])\n",
    "    entry = {\n",
    "        'path': '',\n",
    "        'boxes': []\n",
    "    }\n",
    "    entry['path'] = image_filename\n",
    "    for i in range(len(bounding_boxes)):\n",
    "        x_min, y_min, x_max, y_max = bounding_boxes[i]\n",
    "        entry['boxes'].append({\n",
    "            'label': labels[i],\n",
    "            'x_min': x_min,\n",
    "            'x_max': x_max,\n",
    "            # reverse y min and max because the Y axis flips\n",
    "            'y_min': y_max,\n",
    "            'y_max': y_min,\n",
    "        })\n",
    "    \n",
    "    entries.append(entry)\n",
    "\n",
    "with open(yaml_path, 'w') as file:\n",
    "    yaml.dump(entries, file)\n",
    "\n",
    "print('Done!')\n",
    "#     plt.imshow(bg)"
   ]
  },
  {
   "cell_type": "code",
   "execution_count": null,
   "metadata": {},
   "outputs": [],
   "source": []
  },
  {
   "cell_type": "code",
   "execution_count": null,
   "metadata": {},
   "outputs": [],
   "source": []
  },
  {
   "cell_type": "code",
   "execution_count": null,
   "metadata": {},
   "outputs": [],
   "source": []
  },
  {
   "cell_type": "code",
   "execution_count": null,
   "metadata": {},
   "outputs": [],
   "source": []
  },
  {
   "cell_type": "code",
   "execution_count": null,
   "metadata": {},
   "outputs": [],
   "source": []
  },
  {
   "cell_type": "code",
   "execution_count": null,
   "metadata": {},
   "outputs": [],
   "source": []
  },
  {
   "cell_type": "code",
   "execution_count": null,
   "metadata": {},
   "outputs": [],
   "source": []
  },
  {
   "cell_type": "code",
   "execution_count": null,
   "metadata": {},
   "outputs": [],
   "source": []
  },
  {
   "cell_type": "code",
   "execution_count": null,
   "metadata": {},
   "outputs": [],
   "source": []
  },
  {
   "cell_type": "code",
   "execution_count": null,
   "metadata": {},
   "outputs": [],
   "source": []
  },
  {
   "cell_type": "code",
   "execution_count": null,
   "metadata": {},
   "outputs": [],
   "source": []
  },
  {
   "cell_type": "code",
   "execution_count": null,
   "metadata": {},
   "outputs": [],
   "source": []
  },
  {
   "cell_type": "code",
   "execution_count": null,
   "metadata": {},
   "outputs": [],
   "source": []
  },
  {
   "cell_type": "code",
   "execution_count": null,
   "metadata": {},
   "outputs": [],
   "source": []
  },
  {
   "cell_type": "code",
   "execution_count": null,
   "metadata": {},
   "outputs": [],
   "source": []
  },
  {
   "cell_type": "code",
   "execution_count": null,
   "metadata": {},
   "outputs": [],
   "source": []
  },
  {
   "cell_type": "code",
   "execution_count": null,
   "metadata": {},
   "outputs": [],
   "source": []
  },
  {
   "cell_type": "code",
   "execution_count": null,
   "metadata": {},
   "outputs": [],
   "source": []
  },
  {
   "cell_type": "code",
   "execution_count": null,
   "metadata": {},
   "outputs": [],
   "source": []
  },
  {
   "cell_type": "code",
   "execution_count": null,
   "metadata": {},
   "outputs": [],
   "source": []
  },
  {
   "cell_type": "code",
   "execution_count": null,
   "metadata": {},
   "outputs": [],
   "source": []
  },
  {
   "cell_type": "code",
   "execution_count": null,
   "metadata": {},
   "outputs": [],
   "source": []
  },
  {
   "cell_type": "code",
   "execution_count": null,
   "metadata": {},
   "outputs": [],
   "source": []
  },
  {
   "cell_type": "code",
   "execution_count": null,
   "metadata": {},
   "outputs": [],
   "source": []
  },
  {
   "cell_type": "code",
   "execution_count": null,
   "metadata": {},
   "outputs": [],
   "source": []
  },
  {
   "cell_type": "code",
   "execution_count": null,
   "metadata": {},
   "outputs": [],
   "source": []
  },
  {
   "cell_type": "code",
   "execution_count": null,
   "metadata": {},
   "outputs": [],
   "source": []
  },
  {
   "cell_type": "code",
   "execution_count": null,
   "metadata": {},
   "outputs": [],
   "source": []
  },
  {
   "cell_type": "markdown",
   "metadata": {},
   "source": [
    "# Analysis of content of existing database"
   ]
  },
  {
   "cell_type": "code",
   "execution_count": 4,
   "metadata": {},
   "outputs": [],
   "source": []
  },
  {
   "cell_type": "code",
   "execution_count": null,
   "metadata": {},
   "outputs": [],
   "source": []
  },
  {
   "cell_type": "code",
   "execution_count": 34,
   "metadata": {},
   "outputs": [],
   "source": [
    "directoryGreen = \"./alex-data/simulator_dataset_rgb/Green/labels/\"\n",
    "directoryYellow = \"./alex-data/simulator_dataset_rgb/Yellow/labels/\"\n",
    "directoryRed = \"./alex-data/simulator_dataset_rgb/Red/labels/\"\n",
    "\n",
    "directory = directoryRed\n",
    "\n",
    "with open(\"evaluation_simulator_training_dataset.csv\", \"a\") as myfile:\n",
    "    for filename in os.listdir(directory):\n",
    "        if filename.endswith(\".xml\"):\n",
    "            root = ET.parse(directory+filename).getroot()\n",
    "            for obj in root.findall('object'):\n",
    "                myfile.write(obj.find('name').text + \",\")\n",
    "                bbox = obj.find('bndbox')\n",
    "                myfile.write(bbox.find('xmin').text + \",\")\n",
    "                myfile.write(bbox.find('xmax').text + \",\")\n",
    "                myfile.write(bbox.find('ymin').text + \",\")\n",
    "                myfile.write(bbox.find('ymax').text)\n",
    "                myfile.write(\"\\n\")"
   ]
  },
  {
   "cell_type": "code",
   "execution_count": null,
   "metadata": {},
   "outputs": [],
   "source": []
  },
  {
   "cell_type": "markdown",
   "metadata": {},
   "source": [
    "### Create TFRecord"
   ]
  },
  {
   "cell_type": "code",
   "execution_count": 98,
   "metadata": {},
   "outputs": [
    {
     "name": "stdout",
     "output_type": "stream",
     "text": [
      "<module 'tensorflow' from '/Users/gleb/miniconda3/envs/carnd-capstone/lib/python2.7/site-packages/tensorflow/__init__.pyc'>\n",
      "Reading yaml...\n"
     ]
    },
    {
     "name": "stderr",
     "output_type": "stream",
     "text": [
      "/Users/gleb/miniconda3/envs/carnd-capstone/lib/python2.7/site-packages/ipykernel_launcher.py:64: YAMLLoadWarning: calling yaml.load() without Loader=... is deprecated, as the default Loader is unsafe. Please read https://msg.pyyaml.org/load for full details.\n"
     ]
    },
    {
     "name": "stdout",
     "output_type": "stream",
     "text": [
      "Loaded 5000 examples...\n",
      "Done!\n"
     ]
    }
   ],
   "source": [
    "INPUT_YAML = \"./evaluation-dataset/site/images.yaml\"\n",
    "TFRECORD_DESTINATION = './evaluation-dataset/site/images.record'\n",
    "\n",
    "LABEL_DICT =  {\n",
    "    \"Green_light\" : 1,\n",
    "    \"Red_light\" : 2,\n",
    "    \"Yellow_light\" : 3,\n",
    "}\n",
    "\n",
    "def create_tf_record(example):\n",
    "\n",
    "    height = 600 # Image height\n",
    "    width = 800 # Image width\n",
    "\n",
    "    filename = example['path'] # Filename of the image. Empty if image is not from file\n",
    "    filename = filename.encode()\n",
    "\n",
    "    with tf.gfile.GFile(example['path'], 'rb') as fid:\n",
    "        encoded_image = fid.read()\n",
    "\n",
    "    image_format = 'jpg'.encode()\n",
    "\n",
    "    xmins = [] # List of normalized left x coordinates in bounding box (1 per box)\n",
    "    xmaxs = [] # List of normalized right x coordinates in bounding box\n",
    "                # (1 per box)\n",
    "    ymins = [] # List of normalized top y coordinates in bounding box (1 per box)\n",
    "    ymaxs = [] # List of normalized bottom y coordinates in bounding box\n",
    "                # (1 per box)\n",
    "    classes_text = [] # List of string class name of bounding box (1 per box)\n",
    "    classes = [] # List of integer class id of bounding box (1 per box)\n",
    "\n",
    "    for box in example['boxes']:\n",
    "        #if box['occluded'] is False:\n",
    "        #print(\"adding box\")\n",
    "        xmins.append(float(float(box['x_min']) / float(width)))\n",
    "        xmaxs.append(float(float(box['x_max']) / float(width)))\n",
    "        ymins.append(float(float(box['y_min']) / float(height)))\n",
    "        ymaxs.append(float(float(box['y_max']) / float(height)))\n",
    "        classes_text.append(box['label'].encode())\n",
    "        classes.append(int(LABEL_DICT[box['label']]))\n",
    "\n",
    "\n",
    "    tf_record = tf.train.Example(features=tf.train.Features(feature={\n",
    "        'image/height': dataset_util.int64_feature(height),\n",
    "        'image/width': dataset_util.int64_feature(width),\n",
    "        'image/filename': dataset_util.bytes_feature(filename),\n",
    "        'image/source_id': dataset_util.bytes_feature(filename),\n",
    "        'image/encoded': dataset_util.bytes_feature(encoded_image),\n",
    "        'image/format': dataset_util.bytes_feature(image_format),\n",
    "        'image/object/bbox/xmin': dataset_util.float_list_feature(xmins),\n",
    "        'image/object/bbox/xmax': dataset_util.float_list_feature(xmaxs),\n",
    "        'image/object/bbox/ymin': dataset_util.float_list_feature(ymins),\n",
    "        'image/object/bbox/ymax': dataset_util.float_list_feature(ymaxs),\n",
    "        'image/object/class/text': dataset_util.bytes_list_feature(classes_text),\n",
    "        'image/object/class/label': dataset_util.int64_list_feature(classes),\n",
    "    }))\n",
    "\n",
    "    return tf_record\n",
    "\n",
    "print(tf)\n",
    "writer = tf.python_io.TFRecordWriter(TFRECORD_DESTINATION)\n",
    "\n",
    "print(\"Reading yaml...\")\n",
    "examples = yaml.load(open(INPUT_YAML, 'rb').read())\n",
    "\n",
    "len_examples = len(examples)\n",
    "print(\"Loaded \" + str(len(examples)) + \" examples...\")\n",
    "\n",
    "for i in range(2000):\n",
    "    examples[i]['path'] = os.path.abspath(examples[i]['path'])\n",
    "    example = examples[i]\n",
    "    \n",
    "#     print(example)\n",
    "    tf_record = create_tf_record(example)\n",
    "    writer.write(tf_record.SerializeToString())\n",
    "\n",
    "writer.close()\n",
    "\n",
    "print(\"Done!\")"
   ]
  },
  {
   "cell_type": "code",
   "execution_count": null,
   "metadata": {},
   "outputs": [],
   "source": []
  },
  {
   "cell_type": "code",
   "execution_count": null,
   "metadata": {},
   "outputs": [],
   "source": []
  },
  {
   "cell_type": "code",
   "execution_count": null,
   "metadata": {},
   "outputs": [],
   "source": []
  },
  {
   "cell_type": "code",
   "execution_count": null,
   "metadata": {},
   "outputs": [],
   "source": []
  },
  {
   "cell_type": "code",
   "execution_count": null,
   "metadata": {},
   "outputs": [],
   "source": []
  },
  {
   "cell_type": "code",
   "execution_count": null,
   "metadata": {},
   "outputs": [],
   "source": []
  },
  {
   "cell_type": "code",
   "execution_count": null,
   "metadata": {},
   "outputs": [],
   "source": []
  },
  {
   "cell_type": "code",
   "execution_count": null,
   "metadata": {},
   "outputs": [],
   "source": []
  },
  {
   "cell_type": "code",
   "execution_count": null,
   "metadata": {},
   "outputs": [],
   "source": []
  },
  {
   "cell_type": "code",
   "execution_count": null,
   "metadata": {},
   "outputs": [],
   "source": []
  },
  {
   "cell_type": "code",
   "execution_count": null,
   "metadata": {},
   "outputs": [],
   "source": []
  },
  {
   "cell_type": "code",
   "execution_count": null,
   "metadata": {},
   "outputs": [],
   "source": []
  },
  {
   "cell_type": "code",
   "execution_count": null,
   "metadata": {},
   "outputs": [],
   "source": []
  },
  {
   "cell_type": "code",
   "execution_count": null,
   "metadata": {},
   "outputs": [],
   "source": []
  },
  {
   "cell_type": "code",
   "execution_count": null,
   "metadata": {},
   "outputs": [],
   "source": []
  },
  {
   "cell_type": "code",
   "execution_count": null,
   "metadata": {},
   "outputs": [],
   "source": []
  },
  {
   "cell_type": "code",
   "execution_count": null,
   "metadata": {},
   "outputs": [],
   "source": []
  },
  {
   "cell_type": "code",
   "execution_count": null,
   "metadata": {},
   "outputs": [],
   "source": []
  },
  {
   "cell_type": "code",
   "execution_count": null,
   "metadata": {},
   "outputs": [],
   "source": []
  },
  {
   "cell_type": "code",
   "execution_count": null,
   "metadata": {},
   "outputs": [],
   "source": []
  },
  {
   "cell_type": "code",
   "execution_count": null,
   "metadata": {},
   "outputs": [],
   "source": []
  },
  {
   "cell_type": "code",
   "execution_count": null,
   "metadata": {},
   "outputs": [],
   "source": []
  },
  {
   "cell_type": "code",
   "execution_count": null,
   "metadata": {},
   "outputs": [],
   "source": []
  },
  {
   "cell_type": "code",
   "execution_count": null,
   "metadata": {},
   "outputs": [],
   "source": []
  },
  {
   "cell_type": "code",
   "execution_count": null,
   "metadata": {},
   "outputs": [],
   "source": []
  },
  {
   "cell_type": "code",
   "execution_count": null,
   "metadata": {},
   "outputs": [],
   "source": []
  },
  {
   "cell_type": "code",
   "execution_count": null,
   "metadata": {},
   "outputs": [],
   "source": []
  },
  {
   "cell_type": "code",
   "execution_count": null,
   "metadata": {},
   "outputs": [],
   "source": []
  },
  {
   "cell_type": "code",
   "execution_count": null,
   "metadata": {},
   "outputs": [],
   "source": []
  },
  {
   "cell_type": "markdown",
   "metadata": {},
   "source": [
    "### Test detection code"
   ]
  },
  {
   "cell_type": "code",
   "execution_count": 2,
   "metadata": {},
   "outputs": [],
   "source": [
    "\n",
    "\n",
    "# the following function is to add data in a dictionary in order to analyse the detection boxes based on the bbox size\n",
    "INDEX_DETECT_CORRECTLY = 0\n",
    "INDEX_DETECT_INCORRECTLY = 1\n",
    "INDEX_NOT_DETECTED = 2\n",
    "INDEX_TOTAL_SAMPLE = 3\n",
    "\n",
    "def add_bbox_sample(dictionary, bbox_size, light_color_id, is_detected, is_detected_correctly):\n",
    "    if not ((bbox_size,light_color_id) in dictionary):\n",
    "        dictionary.update({(bbox_size,light_color_id):[0,0,0,0]})\n",
    "    #update\n",
    "    if is_detected:\n",
    "        if is_detected_correctly:\n",
    "            dictionary[(bbox_size,light_color_id)][INDEX_DETECT_CORRECTLY] += 1\n",
    "        else:\n",
    "            dictionary[(bbox_size,light_color_id)][INDEX_DETECT_INCORRECTLY] += 1\n",
    "    else:\n",
    "        dictionary[(bbox_size,light_color_id)][INDEX_NOT_DETECTED] += 1\n",
    "    dictionary[(bbox_size,light_color_id)][INDEX_TOTAL_SAMPLE] += 1"
   ]
  },
  {
   "cell_type": "code",
   "execution_count": null,
   "metadata": {},
   "outputs": [],
   "source": []
  },
  {
   "cell_type": "code",
   "execution_count": null,
   "metadata": {},
   "outputs": [],
   "source": []
  },
  {
   "cell_type": "code",
   "execution_count": null,
   "metadata": {},
   "outputs": [],
   "source": []
  },
  {
   "cell_type": "code",
   "execution_count": null,
   "metadata": {},
   "outputs": [],
   "source": []
  },
  {
   "cell_type": "code",
   "execution_count": null,
   "metadata": {},
   "outputs": [],
   "source": []
  },
  {
   "cell_type": "code",
   "execution_count": null,
   "metadata": {},
   "outputs": [],
   "source": []
  },
  {
   "cell_type": "code",
   "execution_count": null,
   "metadata": {},
   "outputs": [],
   "source": []
  },
  {
   "cell_type": "code",
   "execution_count": null,
   "metadata": {},
   "outputs": [],
   "source": []
  },
  {
   "cell_type": "code",
   "execution_count": null,
   "metadata": {},
   "outputs": [],
   "source": []
  },
  {
   "cell_type": "code",
   "execution_count": null,
   "metadata": {},
   "outputs": [],
   "source": []
  },
  {
   "cell_type": "code",
   "execution_count": 5,
   "metadata": {},
   "outputs": [],
   "source": [
    "def load_graph(graph_file):\n",
    "    \"\"\"Loads a frozen inference graph\"\"\"\n",
    "    graph = tf.Graph()\n",
    "    with graph.as_default():\n",
    "        od_graph_def = tf.GraphDef()\n",
    "        with tf.gfile.GFile(graph_file, 'rb') as fid:\n",
    "            serialized_graph = fid.read()\n",
    "            od_graph_def.ParseFromString(serialized_graph)\n",
    "            tf.import_graph_def(od_graph_def, name='')\n",
    "    return graph"
   ]
  },
  {
   "cell_type": "code",
   "execution_count": 4,
   "metadata": {},
   "outputs": [
    {
     "ename": "NotFoundError",
     "evalue": "./model/site/ssd_mobilenet_v1_coco_10000_synthetic/frozen_inference_graph.pb; No such file or directory",
     "output_type": "error",
     "traceback": [
      "\u001b[0;31m---------------------------------------------------------------------------\u001b[0m",
      "\u001b[0;31mNotFoundError\u001b[0m                             Traceback (most recent call last)",
      "\u001b[0;32m<ipython-input-4-fc30aa5fe9ec>\u001b[0m in \u001b[0;36m<module>\u001b[0;34m()\u001b[0m\n\u001b[1;32m     49\u001b[0m \u001b[0;34m\u001b[0m\u001b[0m\n\u001b[1;32m     50\u001b[0m \u001b[0;34m\u001b[0m\u001b[0m\n\u001b[0;32m---> 51\u001b[0;31m \u001b[0mdetection_graph\u001b[0m \u001b[0;34m=\u001b[0m \u001b[0mload_graph\u001b[0m\u001b[0;34m(\u001b[0m\u001b[0;34m'./model/site/ssd_mobilenet_v1_coco_10000_synthetic/frozen_inference_graph.pb'\u001b[0m\u001b[0;34m)\u001b[0m\u001b[0;34m\u001b[0m\u001b[0m\n\u001b[0m\u001b[1;32m     52\u001b[0m \u001b[0;34m\u001b[0m\u001b[0m\n\u001b[1;32m     53\u001b[0m \u001b[0;34m\u001b[0m\u001b[0m\n",
      "\u001b[0;32m<ipython-input-4-fc30aa5fe9ec>\u001b[0m in \u001b[0;36mload_graph\u001b[0;34m(graph_file)\u001b[0m\n\u001b[1;32m     43\u001b[0m         \u001b[0mod_graph_def\u001b[0m \u001b[0;34m=\u001b[0m \u001b[0mtf\u001b[0m\u001b[0;34m.\u001b[0m\u001b[0mGraphDef\u001b[0m\u001b[0;34m(\u001b[0m\u001b[0;34m)\u001b[0m\u001b[0;34m\u001b[0m\u001b[0m\n\u001b[1;32m     44\u001b[0m         \u001b[0;32mwith\u001b[0m \u001b[0mtf\u001b[0m\u001b[0;34m.\u001b[0m\u001b[0mgfile\u001b[0m\u001b[0;34m.\u001b[0m\u001b[0mGFile\u001b[0m\u001b[0;34m(\u001b[0m\u001b[0mgraph_file\u001b[0m\u001b[0;34m,\u001b[0m \u001b[0;34m'rb'\u001b[0m\u001b[0;34m)\u001b[0m \u001b[0;32mas\u001b[0m \u001b[0mfid\u001b[0m\u001b[0;34m:\u001b[0m\u001b[0;34m\u001b[0m\u001b[0m\n\u001b[0;32m---> 45\u001b[0;31m             \u001b[0mserialized_graph\u001b[0m \u001b[0;34m=\u001b[0m \u001b[0mfid\u001b[0m\u001b[0;34m.\u001b[0m\u001b[0mread\u001b[0m\u001b[0;34m(\u001b[0m\u001b[0;34m)\u001b[0m\u001b[0;34m\u001b[0m\u001b[0m\n\u001b[0m\u001b[1;32m     46\u001b[0m             \u001b[0mod_graph_def\u001b[0m\u001b[0;34m.\u001b[0m\u001b[0mParseFromString\u001b[0m\u001b[0;34m(\u001b[0m\u001b[0mserialized_graph\u001b[0m\u001b[0;34m)\u001b[0m\u001b[0;34m\u001b[0m\u001b[0m\n\u001b[1;32m     47\u001b[0m             \u001b[0mtf\u001b[0m\u001b[0;34m.\u001b[0m\u001b[0mimport_graph_def\u001b[0m\u001b[0;34m(\u001b[0m\u001b[0mod_graph_def\u001b[0m\u001b[0;34m,\u001b[0m \u001b[0mname\u001b[0m\u001b[0;34m=\u001b[0m\u001b[0;34m''\u001b[0m\u001b[0;34m)\u001b[0m\u001b[0;34m\u001b[0m\u001b[0m\n",
      "\u001b[0;32m/home/david/miniconda3/envs/carnd-capstone/lib/python2.7/site-packages/tensorflow/python/lib/io/file_io.pyc\u001b[0m in \u001b[0;36mread\u001b[0;34m(self, n)\u001b[0m\n\u001b[1;32m    117\u001b[0m       \u001b[0mstring\u001b[0m \u001b[0;32mif\u001b[0m \u001b[0;32min\u001b[0m \u001b[0mstring\u001b[0m \u001b[0;34m(\u001b[0m\u001b[0mregular\u001b[0m\u001b[0;34m)\u001b[0m \u001b[0mmode\u001b[0m\u001b[0;34m.\u001b[0m\u001b[0;34m\u001b[0m\u001b[0m\n\u001b[1;32m    118\u001b[0m     \"\"\"\n\u001b[0;32m--> 119\u001b[0;31m     \u001b[0mself\u001b[0m\u001b[0;34m.\u001b[0m\u001b[0m_preread_check\u001b[0m\u001b[0;34m(\u001b[0m\u001b[0;34m)\u001b[0m\u001b[0;34m\u001b[0m\u001b[0m\n\u001b[0m\u001b[1;32m    120\u001b[0m     \u001b[0;32mwith\u001b[0m \u001b[0merrors\u001b[0m\u001b[0;34m.\u001b[0m\u001b[0mraise_exception_on_not_ok_status\u001b[0m\u001b[0;34m(\u001b[0m\u001b[0;34m)\u001b[0m \u001b[0;32mas\u001b[0m \u001b[0mstatus\u001b[0m\u001b[0;34m:\u001b[0m\u001b[0;34m\u001b[0m\u001b[0m\n\u001b[1;32m    121\u001b[0m       \u001b[0;32mif\u001b[0m \u001b[0mn\u001b[0m \u001b[0;34m==\u001b[0m \u001b[0;34m-\u001b[0m\u001b[0;36m1\u001b[0m\u001b[0;34m:\u001b[0m\u001b[0;34m\u001b[0m\u001b[0m\n",
      "\u001b[0;32m/home/david/miniconda3/envs/carnd-capstone/lib/python2.7/site-packages/tensorflow/python/lib/io/file_io.pyc\u001b[0m in \u001b[0;36m_preread_check\u001b[0;34m(self)\u001b[0m\n\u001b[1;32m     77\u001b[0m       \u001b[0;32mwith\u001b[0m \u001b[0merrors\u001b[0m\u001b[0;34m.\u001b[0m\u001b[0mraise_exception_on_not_ok_status\u001b[0m\u001b[0;34m(\u001b[0m\u001b[0;34m)\u001b[0m \u001b[0;32mas\u001b[0m \u001b[0mstatus\u001b[0m\u001b[0;34m:\u001b[0m\u001b[0;34m\u001b[0m\u001b[0m\n\u001b[1;32m     78\u001b[0m         self._read_buf = pywrap_tensorflow.CreateBufferedInputStream(\n\u001b[0;32m---> 79\u001b[0;31m             compat.as_bytes(self.__name), 1024 * 512, status)\n\u001b[0m\u001b[1;32m     80\u001b[0m \u001b[0;34m\u001b[0m\u001b[0m\n\u001b[1;32m     81\u001b[0m   \u001b[0;32mdef\u001b[0m \u001b[0m_prewrite_check\u001b[0m\u001b[0;34m(\u001b[0m\u001b[0mself\u001b[0m\u001b[0;34m)\u001b[0m\u001b[0;34m:\u001b[0m\u001b[0;34m\u001b[0m\u001b[0m\n",
      "\u001b[0;32m/home/david/miniconda3/envs/carnd-capstone/lib/python2.7/site-packages/tensorflow/python/framework/errors_impl.pyc\u001b[0m in \u001b[0;36m__exit__\u001b[0;34m(self, type_arg, value_arg, traceback_arg)\u001b[0m\n\u001b[1;32m    471\u001b[0m             \u001b[0mNone\u001b[0m\u001b[0;34m,\u001b[0m \u001b[0mNone\u001b[0m\u001b[0;34m,\u001b[0m\u001b[0;34m\u001b[0m\u001b[0m\n\u001b[1;32m    472\u001b[0m             \u001b[0mcompat\u001b[0m\u001b[0;34m.\u001b[0m\u001b[0mas_text\u001b[0m\u001b[0;34m(\u001b[0m\u001b[0mc_api\u001b[0m\u001b[0;34m.\u001b[0m\u001b[0mTF_Message\u001b[0m\u001b[0;34m(\u001b[0m\u001b[0mself\u001b[0m\u001b[0;34m.\u001b[0m\u001b[0mstatus\u001b[0m\u001b[0;34m.\u001b[0m\u001b[0mstatus\u001b[0m\u001b[0;34m)\u001b[0m\u001b[0;34m)\u001b[0m\u001b[0;34m,\u001b[0m\u001b[0;34m\u001b[0m\u001b[0m\n\u001b[0;32m--> 473\u001b[0;31m             c_api.TF_GetCode(self.status.status))\n\u001b[0m\u001b[1;32m    474\u001b[0m     \u001b[0;31m# Delete the underlying status object from memory otherwise it stays alive\u001b[0m\u001b[0;34m\u001b[0m\u001b[0;34m\u001b[0m\u001b[0m\n\u001b[1;32m    475\u001b[0m     \u001b[0;31m# as there is a reference to status from this from the traceback due to\u001b[0m\u001b[0;34m\u001b[0m\u001b[0;34m\u001b[0m\u001b[0m\n",
      "\u001b[0;31mNotFoundError\u001b[0m: ./model/site/ssd_mobilenet_v1_coco_10000_synthetic/frozen_inference_graph.pb; No such file or directory"
     ]
    }
   ],
   "source": [
    "\n",
    "def filter_boxes(min_score, boxes, scores, classes):\n",
    "    \"\"\"Return boxes with a confidence >= `min_score`\"\"\"\n",
    "    n = len(classes)\n",
    "    idxs = []\n",
    "    for i in range(n):\n",
    "        if scores[i] >= min_score:\n",
    "            idxs.append(i)\n",
    "    \n",
    "    filtered_boxes = boxes[idxs, ...]\n",
    "    filtered_scores = scores[idxs, ...]\n",
    "    filtered_classes = classes[idxs, ...]\n",
    "    return filtered_boxes, filtered_scores, filtered_classes\n",
    "\n",
    "def to_image_coords(boxes, height, width):\n",
    "    \"\"\"\n",
    "    The original box coordinate output is normalized, i.e [0, 1].\n",
    "    \n",
    "    This converts it back to the original coordinate based on the image\n",
    "    size.\n",
    "    \"\"\"\n",
    "    box_coords = np.zeros_like(boxes)\n",
    "    box_coords[:, 0] = boxes[:, 0] * height\n",
    "    box_coords[:, 1] = boxes[:, 1] * width\n",
    "    box_coords[:, 2] = boxes[:, 2] * height\n",
    "    box_coords[:, 3] = boxes[:, 3] * width\n",
    "    \n",
    "    return box_coords\n",
    "\n",
    "def draw_boxes(image, boxes, classes, colors, thickness=3):\n",
    "    \"\"\"Draw bounding boxes on the image\"\"\"\n",
    "    draw = ImageDraw.Draw(image)\n",
    "    for i in range(len(boxes)):\n",
    "        bot, left, top, right = boxes[i, ...]\n",
    "        class_id = int(classes[i])\n",
    "        color = colors[class_id - 1]\n",
    "        draw.line([(left, top), (left, bot), (right, bot), (right, top), (left, top)], width=thickness, fill=color)\n",
    "\n",
    "\n",
    "detection_graph = load_graph('./model/site/ssd_mobilenet_v1_coco_10000_synthetic/frozen_inference_graph.pb')\n",
    "\n",
    "\n",
    "# The input placeholder for the image.\n",
    "# `get_tensor_by_name` returns the Tensor with the associated name in the Graph.\n",
    "image_tensor = detection_graph.get_tensor_by_name('image_tensor:0')\n",
    "\n",
    "# Each box represents a part of the image where a particular object was detected.\n",
    "detection_boxes = detection_graph.get_tensor_by_name('detection_boxes:0')\n",
    "\n",
    "# Each score represent how level of confidence for each of the objects.\n",
    "# Score is shown on the result image, together with the class label.\n",
    "detection_scores = detection_graph.get_tensor_by_name('detection_scores:0')\n",
    "\n",
    "# The classification of the object (integer id).\n",
    "detection_classes = detection_graph.get_tensor_by_name('detection_classes:0')\n",
    "\n",
    "\n",
    "image = Image.open('./evaluation-dataset/site/synthetic-4.jpg')\n",
    "image = Image.open('./assets/site-green-102.jpg')\n",
    "image = np.asarray(image)\n",
    "\n",
    "image = preprocess(image)\n",
    "# image = np.asarray(image)\n",
    "# image = adjust_gamma(image, 0.5)\n",
    "# image = Image.fromarray(image)\n",
    "\n",
    "image = Image.fromarray(image)\n",
    "image_np = np.expand_dims(np.asarray(image, dtype=np.uint8), 0)\n",
    "\n",
    "with tf.Session(graph=detection_graph) as sess:                \n",
    "    # Actual detection.\n",
    "    (boxes, scores, classes) = sess.run([detection_boxes, detection_scores, detection_classes], \n",
    "                                        feed_dict={image_tensor: image_np})\n",
    "\n",
    "    # Remove unnecessary dimensions\n",
    "    boxes = np.squeeze(boxes)\n",
    "    scores = np.squeeze(scores)\n",
    "    classes = np.squeeze(classes)\n",
    "\n",
    "    confidence_cutoff = 0.5\n",
    "    # Filter boxes with a confidence score less than `confidence_cutoff`\n",
    "    boxes, scores, classes = filter_boxes(confidence_cutoff, boxes, scores, classes)\n",
    "    print(scores)\n",
    "    print(classes)\n",
    "    # The current box coordinates are normalized to a range between 0 and 1.\n",
    "    # This converts the coordinates actual location on the image.\n",
    "    width, height = image.size\n",
    "    box_coords = to_image_coords(boxes, height, width)\n",
    "\n",
    "    # Each class with be represented by a differently colored box\n",
    "    draw_boxes(image, box_coords, classes, ['green', 'yellow', 'red', 'gray'])\n",
    "#     print(detection_classes)\n",
    "#     print(classes)\n",
    "\n",
    "    plt.figure(figsize=(12, 8))\n",
    "    plt.imshow(image) "
   ]
  },
  {
   "cell_type": "code",
   "execution_count": null,
   "metadata": {},
   "outputs": [],
   "source": []
  },
  {
   "cell_type": "code",
   "execution_count": null,
   "metadata": {},
   "outputs": [],
   "source": []
  },
  {
   "cell_type": "code",
   "execution_count": null,
   "metadata": {},
   "outputs": [],
   "source": []
  },
  {
   "cell_type": "code",
   "execution_count": null,
   "metadata": {},
   "outputs": [],
   "source": []
  },
  {
   "cell_type": "code",
   "execution_count": null,
   "metadata": {},
   "outputs": [],
   "source": []
  },
  {
   "cell_type": "code",
   "execution_count": null,
   "metadata": {},
   "outputs": [],
   "source": []
  },
  {
   "cell_type": "code",
   "execution_count": null,
   "metadata": {},
   "outputs": [],
   "source": []
  },
  {
   "cell_type": "code",
   "execution_count": null,
   "metadata": {},
   "outputs": [],
   "source": []
  },
  {
   "cell_type": "code",
   "execution_count": null,
   "metadata": {},
   "outputs": [],
   "source": []
  },
  {
   "cell_type": "code",
   "execution_count": null,
   "metadata": {},
   "outputs": [],
   "source": []
  },
  {
   "cell_type": "code",
   "execution_count": null,
   "metadata": {},
   "outputs": [],
   "source": []
  },
  {
   "cell_type": "code",
   "execution_count": null,
   "metadata": {},
   "outputs": [],
   "source": []
  },
  {
   "cell_type": "code",
   "execution_count": null,
   "metadata": {},
   "outputs": [],
   "source": []
  },
  {
   "cell_type": "code",
   "execution_count": null,
   "metadata": {},
   "outputs": [],
   "source": []
  },
  {
   "cell_type": "code",
   "execution_count": null,
   "metadata": {},
   "outputs": [],
   "source": []
  },
  {
   "cell_type": "code",
   "execution_count": null,
   "metadata": {},
   "outputs": [],
   "source": []
  },
  {
   "cell_type": "code",
   "execution_count": null,
   "metadata": {},
   "outputs": [],
   "source": []
  },
  {
   "cell_type": "code",
   "execution_count": null,
   "metadata": {},
   "outputs": [],
   "source": []
  },
  {
   "cell_type": "code",
   "execution_count": null,
   "metadata": {},
   "outputs": [],
   "source": []
  },
  {
   "cell_type": "code",
   "execution_count": null,
   "metadata": {},
   "outputs": [],
   "source": []
  },
  {
   "cell_type": "code",
   "execution_count": null,
   "metadata": {},
   "outputs": [],
   "source": []
  },
  {
   "cell_type": "code",
   "execution_count": null,
   "metadata": {},
   "outputs": [],
   "source": []
  },
  {
   "cell_type": "code",
   "execution_count": null,
   "metadata": {},
   "outputs": [],
   "source": []
  },
  {
   "cell_type": "code",
   "execution_count": null,
   "metadata": {},
   "outputs": [],
   "source": []
  },
  {
   "cell_type": "code",
   "execution_count": null,
   "metadata": {},
   "outputs": [],
   "source": []
  },
  {
   "cell_type": "code",
   "execution_count": null,
   "metadata": {},
   "outputs": [],
   "source": []
  },
  {
   "cell_type": "code",
   "execution_count": null,
   "metadata": {},
   "outputs": [],
   "source": []
  },
  {
   "cell_type": "code",
   "execution_count": null,
   "metadata": {},
   "outputs": [],
   "source": []
  },
  {
   "cell_type": "code",
   "execution_count": null,
   "metadata": {},
   "outputs": [],
   "source": []
  },
  {
   "cell_type": "code",
   "execution_count": null,
   "metadata": {},
   "outputs": [],
   "source": []
  },
  {
   "cell_type": "code",
   "execution_count": null,
   "metadata": {},
   "outputs": [],
   "source": []
  },
  {
   "cell_type": "code",
   "execution_count": null,
   "metadata": {},
   "outputs": [],
   "source": []
  },
  {
   "cell_type": "code",
   "execution_count": null,
   "metadata": {},
   "outputs": [],
   "source": []
  },
  {
   "cell_type": "code",
   "execution_count": null,
   "metadata": {},
   "outputs": [],
   "source": []
  },
  {
   "cell_type": "code",
   "execution_count": null,
   "metadata": {},
   "outputs": [],
   "source": []
  },
  {
   "cell_type": "code",
   "execution_count": null,
   "metadata": {},
   "outputs": [],
   "source": []
  },
  {
   "cell_type": "code",
   "execution_count": null,
   "metadata": {},
   "outputs": [],
   "source": []
  },
  {
   "cell_type": "code",
   "execution_count": null,
   "metadata": {},
   "outputs": [],
   "source": []
  },
  {
   "cell_type": "code",
   "execution_count": null,
   "metadata": {},
   "outputs": [],
   "source": []
  },
  {
   "cell_type": "code",
   "execution_count": null,
   "metadata": {},
   "outputs": [],
   "source": []
  },
  {
   "cell_type": "code",
   "execution_count": null,
   "metadata": {},
   "outputs": [],
   "source": []
  },
  {
   "cell_type": "code",
   "execution_count": null,
   "metadata": {},
   "outputs": [],
   "source": []
  },
  {
   "cell_type": "code",
   "execution_count": null,
   "metadata": {},
   "outputs": [],
   "source": []
  },
  {
   "cell_type": "code",
   "execution_count": 13,
   "metadata": {},
   "outputs": [],
   "source": []
  },
  {
   "cell_type": "code",
   "execution_count": null,
   "metadata": {},
   "outputs": [],
   "source": []
  },
  {
   "cell_type": "code",
   "execution_count": null,
   "metadata": {},
   "outputs": [],
   "source": []
  },
  {
   "cell_type": "code",
   "execution_count": null,
   "metadata": {},
   "outputs": [],
   "source": []
  },
  {
   "cell_type": "code",
   "execution_count": null,
   "metadata": {},
   "outputs": [],
   "source": []
  },
  {
   "cell_type": "code",
   "execution_count": 32,
   "metadata": {
    "scrolled": true
   },
   "outputs": [
    {
     "name": "stdout",
     "output_type": "stream",
     "text": [
      "Note: it is possible that total expected lights is different from the detected correct plus detected incorrect\n",
      "since it is possible that we have two overlapping bounding boxes\n",
      "Green:\n",
      "Total expected lights: 968\n",
      "Detected Correct: 294\n",
      "Detected Incorrect: 2\n",
      "Not detected: 673\n",
      "Background as traffic light: 10\n",
      "Accuracy: 0.303719008264\n",
      "\n",
      "Red:\n",
      "Total expected lights: 1017\n",
      "Detected Correct: 56\n",
      "Detected Incorrect: 381\n",
      "Not detected: 590\n",
      "Background as traffic light: 2\n",
      "Accuracy: 0.055063913471\n",
      "\n",
      "Yellow:\n",
      "Total expected lights: 969\n",
      "Detected Correct: 6\n",
      "Detected Incorrect: 286\n",
      "Not detected: 683\n",
      "Background as traffic light: 0\n",
      "Accuracy: 0.0061919504644\n"
     ]
    }
   ],
   "source": [
    "#to store in the file where we record data for evaluation\n",
    "MODEL_NAME = \"ssd_mobilenet_v1_coco_40000_external_site\"\n",
    "NUM_STEPS = 40000\n",
    "DATABASE_TRAIN_NAME = \"test_train\"\n",
    "DATABASE_EVAL_NAME = \"SyntheticDataOriginalGamma\"\n",
    "SYNTHETIC_DATA = \"No\"\n",
    "\n",
    "evaluation_folder = './SyntheticDataOriginalGamma/'\n",
    "detection_graph = load_graph('./graphsModels/ssd_mobilenet_v1_coco_40000_external_site.pb')\n",
    "\n",
    "def distance(x1, y1, x2, y2):\n",
    "    return math.sqrt(pow(x2 - x1, 2) + pow(y2 - y1, 2))\n",
    "\n",
    "# The input placeholder for the image.\n",
    "# `get_tensor_by_name` returns the Tensor with the associated name in the Graph.\n",
    "image_tensor = detection_graph.get_tensor_by_name('image_tensor:0')\n",
    "\n",
    "# Each box represents a part of the image where a particular object was detected.\n",
    "detection_boxes = detection_graph.get_tensor_by_name('detection_boxes:0')\n",
    "\n",
    "# Each score represent how level of confidence for each of the objects.\n",
    "# Score is shown on the result image, together with the class label.\n",
    "detection_scores = detection_graph.get_tensor_by_name('detection_scores:0')\n",
    "\n",
    "# The classification of the object (integer id).\n",
    "detection_classes = detection_graph.get_tensor_by_name('detection_classes:0')\n",
    "\n",
    "label_mapping = {\n",
    "    'Green_light': 1,\n",
    "    'Red_light': 2,\n",
    "    'Yellow_light': 3\n",
    "}\n",
    "# image = preprocess(image)\n",
    "\n",
    "with tf.Session(graph=detection_graph) as sess:\n",
    "    # correct is when an expected bounding box is detected and is labelled correctly\n",
    "    correct = {\n",
    "        '1': 0,\n",
    "        '2': 0,\n",
    "        '3': 0,\n",
    "    }\n",
    "    # incorrect is when an expected bounding box is detected and is labelled incorrectly\n",
    "    incorrect = {\n",
    "        '1': 0,\n",
    "        '2': 0,\n",
    "        '3': 0,\n",
    "    }\n",
    "    # non-detected is when an expected bounding box is not detected\n",
    "    not_detected = {\n",
    "        '1': 0,\n",
    "        '2': 0,\n",
    "        '3': 0,\n",
    "    }\n",
    "    # background_as_trafficLight is when we have detected a bounding box but there is not any traffic light (i.e. when the bounding box detected falls into background)\n",
    "    background_as_trafficLight = {\n",
    "        '1': 0,\n",
    "        '2': 0,\n",
    "        '3': 0,\n",
    "    }\n",
    "    total = {\n",
    "        '1': 0,\n",
    "        '2': 0,\n",
    "        '3': 0,\n",
    "    }\n",
    "    \n",
    "    bbox_analysis = {}\n",
    "\n",
    "    for idx_image in range(500):\n",
    "        sample_name = 'synthetic-' + str(idx_image)\n",
    "        image = Image.open(evaluation_folder + sample_name + '.jpg')\n",
    "        image = np.asarray(image)\n",
    "        image = preprocess(image, 0.6)\n",
    "        image = Image.fromarray(image)\n",
    "        image_np = np.expand_dims(np.asarray(image, dtype=np.uint8), 0)\n",
    "        (boxes, scores, classes) = sess.run([detection_boxes, detection_scores, detection_classes], \n",
    "                                            feed_dict={image_tensor: image_np})\n",
    "\n",
    "        # Remove unnecessary dimensions\n",
    "        boxes = np.squeeze(boxes)\n",
    "        scores = np.squeeze(scores)\n",
    "        classes = np.squeeze(classes)\n",
    "\n",
    "        confidence_cutoff = 0.4\n",
    "        # Filter boxes with a confidence score less than `confidence_cutoff`\n",
    "        boxes, scores, classes = filter_boxes(confidence_cutoff, boxes, scores, classes)\n",
    "#         print(boxes)\n",
    "#         print(scores)\n",
    "        # The current box coordinates are normalized to a range between 0 and 1.\n",
    "        # This converts the coordinates actual location on the image.\n",
    "        width, height = image.size\n",
    "        box_coords = to_image_coords(boxes, height, width)\n",
    "        \n",
    "        label_xml = ET.parse(evaluation_folder + sample_name + '.xml')\n",
    "        expected_bbs = []\n",
    "        expected_classes = []\n",
    "        correpondent_detected = [False] * len(boxes)\n",
    "        for label in label_xml.findall('object'):\n",
    "            expected = label_mapping[label.find('name').text]\n",
    "            expected_classes.append(expected)\n",
    "#             print(expected)\n",
    "            box = label.find('bndbox')\n",
    "            min_x = int(box.find('xmin').text)\n",
    "            min_y = int(box.find('ymin').text)\n",
    "            max_x = int(box.find('xmax').text)\n",
    "            max_y = int(box.find('ymax').text)\n",
    "            \n",
    "            bbox_size = abs(max_y-min_y)*abs(max_x-min_x)\n",
    "            \n",
    "            expected_bbs.append([min_y, min_x, max_y, max_x])\n",
    "#             expected_bb = Polygon([\n",
    "#                 (min_y, min_x),\n",
    "#                 (max_x, min_y),\n",
    "#                 (max_x, max_y),\n",
    "#                 (min_x, max_y)\n",
    "#             ])\n",
    "            total[str(expected)] += 1\n",
    "#             print('\\ntesting')\n",
    "#             print([max_y, min_x, min_y, max_x])\n",
    "#             print('expected class: ' + str(expected))\n",
    "#             print('\\n')\n",
    "\n",
    "            detected = False\n",
    "            for i in range(len(box_coords)):\n",
    "                new_min_y, new_min_x, new_max_y, new_max_x = box_coords[i]\n",
    "#                 actual_bb = Polygon([\n",
    "#                     (new_min_x, new_min_y),\n",
    "#                     (new_max_x, new_min_y),\n",
    "#                     (new_max_x, new_max_y),\n",
    "#                     (new_min_x, new_max_y)\n",
    "#                 ])\n",
    "#                 intersection = expected_bb.intersection(actual_bb)\n",
    "#                 area_of_overlap = intersection.area / actual_bb.area if actual_bb.area < expected_bb.area else intersection.area / expected_bb.area\n",
    "#                 print(box_coords[i])\n",
    "#                 print('overlap: ' + str(area_of_overlap))\n",
    "                # consider it a match if there is 75% overlap\n",
    "                # distance of top left corners\n",
    "                dist_tl = distance(min_x, max_y, new_min_x, new_min_y)\n",
    "#                 print(dist_tl)\n",
    "                # distance of bottom right corners\n",
    "                dist_br = distance(max_x, min_y, new_max_x, new_max_y)\n",
    "#                 print(dist_br)\n",
    "#                 print('predicted class: ' + str(int(classes[i])))\n",
    "                avg_corner_distance = (dist_tl + dist_br) / 2\n",
    "#                 print('avg corner distance: ' + str(avg_corner_distance))\n",
    "                if avg_corner_distance < 40:# and area_of_overlap > 0.7:\n",
    "                    correpondent_detected[i] = True\n",
    "                    detected = True\n",
    "                    if int(classes[i]) == expected:\n",
    "                        correct[str(expected)] += 1\n",
    "                        add_bbox_sample(bbox_analysis, bbox_size, str(expected), True, True)\n",
    "                    else:\n",
    "                        incorrect[str(expected)] += 1\n",
    "                        add_bbox_sample(bbox_analysis, bbox_size, str(expected), True, False)\n",
    "            if not detected:\n",
    "                not_detected[str(expected)] += 1\n",
    "                add_bbox_sample(bbox_analysis, bbox_size, str(expected), False, False)\n",
    "        \n",
    "        for i in range(len(box_coords)):\n",
    "            if correpondent_detected[i] is False:\n",
    "                background_as_trafficLight[str(int(classes[i]))] += 1\n",
    "            \n",
    "            #d = dict(zip(unique, counts))\n",
    "            #non_correspondance[int(classes[i])] += d[False]\n",
    "\n",
    "#         print(expected_bbs)\n",
    "\n",
    "#         print(np.array(expected_bbs))\n",
    "#         print(box_coords)\n",
    "#         draw_boxes(image, np.array(expected_bbs), expected_classes, ['#c2f6a8', '#f68d8d', '#f6eaa8', 'gray'])\n",
    "#         draw_boxes(image, box_coords, classes, ['green', 'red', 'yellow', 'gray'])\n",
    "    #     print(detection_classes)\n",
    "    #     print(classes)\n",
    "\n",
    "#         plt.figure(figsize=(12, 8))\n",
    "#         plt.imshow(image) \n",
    "    print('Note: it is possible that total expected lights is different from the detected correct plus detected incorrect\\nsince it is possible that we have two overlapping bounding boxes')\n",
    "    print('Green:')\n",
    "    print('Total expected lights: ' + str(total['1']))\n",
    "    print('Detected Correct: ' + str(correct['1']))\n",
    "    print('Detected Incorrect: ' + str(incorrect['1']))\n",
    "    print('Not detected: ' + str(not_detected['1']))\n",
    "    print('Background as traffic light: ' + str(background_as_trafficLight['1']))\n",
    "    print('Accuracy: '+  str(correct['1'] / float(total['1'])))\n",
    "    print('\\nRed:')\n",
    "    print('Total expected lights: ' + str(total['2']))\n",
    "    print('Detected Correct: ' + str(correct['2']))\n",
    "    print('Detected Incorrect: ' + str(incorrect['2']))\n",
    "    print('Not detected: ' + str(not_detected['2']))\n",
    "    print('Background as traffic light: ' + str(background_as_trafficLight['2']))\n",
    "    print('Accuracy: '+  str(correct['2'] / float(total['2'])))\n",
    "    print('\\nYellow:')\n",
    "    print('Total expected lights: ' + str(total['3']))\n",
    "    print('Detected Correct: ' + str(correct['3']))\n",
    "    print('Detected Incorrect: ' + str(incorrect['3']))\n",
    "    print('Not detected: ' + str(not_detected['3']))\n",
    "    print('Background as traffic light: ' + str(background_as_trafficLight['3']))\n",
    "    print('Accuracy: '+  str(correct['3'] / float(total['3'])))\n",
    "    \n",
    "\n",
    "    with open(\"evaluation_model_accuracy_site_11nov.csv\", \"a\") as myfile:\n",
    "        for i in range(3): # for all the colors\n",
    "            myfile.write(MODEL_NAME + \",\")\n",
    "            myfile.write(str(NUM_STEPS) + \",\")\n",
    "            myfile.write(DATABASE_TRAIN_NAME + \",\")\n",
    "            myfile.write(DATABASE_EVAL_NAME + \",\")\n",
    "            myfile.write(SYNTHETIC_DATA + \",\")\n",
    "            myfile.write(str(i+1) + \",\") #colour\n",
    "            myfile.write(str(total[str(i+1)]) + \", \")\n",
    "            myfile.write(str(correct[str(i+1)]) + \", \")\n",
    "            myfile.write(str(incorrect[str(i+1)]) + \", \")\n",
    "            myfile.write(str(not_detected[str(i+1)]) + \", \")\n",
    "            myfile.write(str(background_as_trafficLight[str(i+1)]))\n",
    "            myfile.write(\"\\n\")\n",
    "\n",
    "\n",
    "    with open(\"evaluation_model_accuracy_bbox_site_11nov.csv\", \"a\") as myfile:\n",
    "        for x in bbox_analysis.keys():\n",
    "            myfile.write(MODEL_NAME + \",\")\n",
    "            myfile.write(str(NUM_STEPS) + \",\")\n",
    "            myfile.write(DATABASE_TRAIN_NAME + \",\")\n",
    "            myfile.write(DATABASE_EVAL_NAME + \",\")\n",
    "            myfile.write(str(x[1]) + \",\") # traffic light color\n",
    "            myfile.write(str(x[0]) + \",\") # bbox size\n",
    "            myfile.write(str(bbox_analysis[x][INDEX_DETECT_CORRECTLY]) + \",\") # detection correct\n",
    "            myfile.write(str(bbox_analysis[x][INDEX_DETECT_INCORRECTLY]) + \",\") # detection incorrect\n",
    "            myfile.write(str(bbox_analysis[x][INDEX_NOT_DETECTED]) + \",\") # not detected\n",
    "            myfile.write(str(bbox_analysis[x][INDEX_TOTAL_SAMPLE])) # total samples\n",
    "            myfile.write(\"\\n\")\n",
    "        \n",
    "    \n",
    "    \n",
    "    \n",
    "\n",
    "    \n"
   ]
  },
  {
   "cell_type": "markdown",
   "metadata": {},
   "source": [
    "# Analysis with different gamma steps"
   ]
  },
  {
   "cell_type": "code",
   "execution_count": null,
   "metadata": {},
   "outputs": [],
   "source": []
  },
  {
   "cell_type": "code",
   "execution_count": 31,
   "metadata": {},
   "outputs": [],
   "source": [
    "#to store in the file where we record data for evaluation\n",
    "MODEL_NAME = \"ssd_mobilenet_v1_coco_10000_gamma\"\n",
    "NUM_STEPS = 10000\n",
    "DATABASE_TRAIN_NAME = \"test_train\"\n",
    "DATABASE_EVAL_NAME = \"SyntheticDataOriginalGamma\"\n",
    "SYNTHETIC_DATA = \"No\"\n",
    "\n",
    "evaluation_folder = './SyntheticDataOriginalGamma/'\n",
    "detection_graph = load_graph('./graphsModels/ssd_mobilenet_v1_coco_10000_gamma.pb')\n",
    "\n",
    "def distance(x1, y1, x2, y2):\n",
    "    return math.sqrt(pow(x2 - x1, 2) + pow(y2 - y1, 2))\n",
    "\n",
    "# The input placeholder for the image.\n",
    "# `get_tensor_by_name` returns the Tensor with the associated name in the Graph.\n",
    "image_tensor = detection_graph.get_tensor_by_name('image_tensor:0')\n",
    "\n",
    "# Each box represents a part of the image where a particular object was detected.\n",
    "detection_boxes = detection_graph.get_tensor_by_name('detection_boxes:0')\n",
    "\n",
    "# Each score represent how level of confidence for each of the objects.\n",
    "# Score is shown on the result image, together with the class label.\n",
    "detection_scores = detection_graph.get_tensor_by_name('detection_scores:0')\n",
    "\n",
    "# The classification of the object (integer id).\n",
    "detection_classes = detection_graph.get_tensor_by_name('detection_classes:0')\n",
    "\n",
    "label_mapping = {\n",
    "    'Green_light': 1,\n",
    "    'Red_light': 2,\n",
    "    'Yellow_light': 3\n",
    "}\n",
    "# image = preprocess(image)\n",
    "\n",
    "with tf.Session(graph=detection_graph) as sess:\n",
    "    for i in xrange(40,100,5):\n",
    "        # correct is when an expected bounding box is detected and is labelled correctly\n",
    "        correct = {\n",
    "            '1': 0,\n",
    "            '2': 0,\n",
    "            '3': 0,\n",
    "        }\n",
    "        # incorrect is when an expected bounding box is detected and is labelled incorrectly\n",
    "        incorrect = {\n",
    "            '1': 0,\n",
    "            '2': 0,\n",
    "            '3': 0,\n",
    "        }\n",
    "        # non-detected is when an expected bounding box is not detected\n",
    "        not_detected = {\n",
    "            '1': 0,\n",
    "            '2': 0,\n",
    "            '3': 0,\n",
    "        }\n",
    "        # background_as_trafficLight is when we have detected a bounding box but there is not any traffic light (i.e. when the bounding box detected falls into background)\n",
    "        background_as_trafficLight = {\n",
    "            '1': 0,\n",
    "            '2': 0,\n",
    "            '3': 0,\n",
    "        }\n",
    "        total = {\n",
    "            '1': 0,\n",
    "            '2': 0,\n",
    "            '3': 0,\n",
    "        }\n",
    "\n",
    "        bbox_analysis = {}\n",
    "        gammaValue = i/100.\n",
    "    \n",
    "        for idx_image in range(500):\n",
    "            sample_name = 'synthetic-' + str(idx_image)\n",
    "            image = Image.open(evaluation_folder + sample_name + '.jpg')\n",
    "            image = np.asarray(image)\n",
    "            image = preprocess(image, gammaValue)\n",
    "            image = Image.fromarray(image)\n",
    "            image_np = np.expand_dims(np.asarray(image, dtype=np.uint8), 0)\n",
    "            (boxes, scores, classes) = sess.run([detection_boxes, detection_scores, detection_classes], \n",
    "                                                feed_dict={image_tensor: image_np})\n",
    "\n",
    "            # Remove unnecessary dimensions\n",
    "            boxes = np.squeeze(boxes)\n",
    "            scores = np.squeeze(scores)\n",
    "            classes = np.squeeze(classes)\n",
    "\n",
    "            confidence_cutoff = 0.4\n",
    "            # Filter boxes with a confidence score less than `confidence_cutoff`\n",
    "            boxes, scores, classes = filter_boxes(confidence_cutoff, boxes, scores, classes)\n",
    "    #         print(boxes)\n",
    "    #         print(scores)\n",
    "            # The current box coordinates are normalized to a range between 0 and 1.\n",
    "            # This converts the coordinates actual location on the image.\n",
    "            width, height = image.size\n",
    "            box_coords = to_image_coords(boxes, height, width)\n",
    "\n",
    "            label_xml = ET.parse(evaluation_folder + sample_name + '.xml')\n",
    "            expected_bbs = []\n",
    "            expected_classes = []\n",
    "            correpondent_detected = [False] * len(boxes)\n",
    "            for label in label_xml.findall('object'):\n",
    "                expected = label_mapping[label.find('name').text]\n",
    "                expected_classes.append(expected)\n",
    "    #             print(expected)\n",
    "                box = label.find('bndbox')\n",
    "                min_x = int(box.find('xmin').text)\n",
    "                min_y = int(box.find('ymin').text)\n",
    "                max_x = int(box.find('xmax').text)\n",
    "                max_y = int(box.find('ymax').text)\n",
    "\n",
    "                bbox_size = abs(max_y-min_y)*abs(max_x-min_x)\n",
    "\n",
    "                expected_bbs.append([min_y, min_x, max_y, max_x])\n",
    "    #             expected_bb = Polygon([\n",
    "    #                 (min_y, min_x),\n",
    "    #                 (max_x, min_y),\n",
    "    #                 (max_x, max_y),\n",
    "    #                 (min_x, max_y)\n",
    "    #             ])\n",
    "                total[str(expected)] += 1\n",
    "    #             print('\\ntesting')\n",
    "    #             print([max_y, min_x, min_y, max_x])\n",
    "    #             print('expected class: ' + str(expected))\n",
    "    #             print('\\n')\n",
    "\n",
    "                detected = False\n",
    "                for i in range(len(box_coords)):\n",
    "                    new_min_y, new_min_x, new_max_y, new_max_x = box_coords[i]\n",
    "    #                 actual_bb = Polygon([\n",
    "    #                     (new_min_x, new_min_y),\n",
    "    #                     (new_max_x, new_min_y),\n",
    "    #                     (new_max_x, new_max_y),\n",
    "    #                     (new_min_x, new_max_y)\n",
    "    #                 ])\n",
    "    #                 intersection = expected_bb.intersection(actual_bb)\n",
    "    #                 area_of_overlap = intersection.area / actual_bb.area if actual_bb.area < expected_bb.area else intersection.area / expected_bb.area\n",
    "    #                 print(box_coords[i])\n",
    "    #                 print('overlap: ' + str(area_of_overlap))\n",
    "                    # consider it a match if there is 75% overlap\n",
    "                    # distance of top left corners\n",
    "                    dist_tl = distance(min_x, max_y, new_min_x, new_min_y)\n",
    "    #                 print(dist_tl)\n",
    "                    # distance of bottom right corners\n",
    "                    dist_br = distance(max_x, min_y, new_max_x, new_max_y)\n",
    "    #                 print(dist_br)\n",
    "    #                 print('predicted class: ' + str(int(classes[i])))\n",
    "                    avg_corner_distance = (dist_tl + dist_br) / 2\n",
    "    #                 print('avg corner distance: ' + str(avg_corner_distance))\n",
    "                    if avg_corner_distance < 40:# and area_of_overlap > 0.7:\n",
    "                        correpondent_detected[i] = True\n",
    "                        detected = True\n",
    "                        if int(classes[i]) == expected:\n",
    "                            correct[str(expected)] += 1\n",
    "                            add_bbox_sample(bbox_analysis, bbox_size, str(expected), True, True)\n",
    "                        else:\n",
    "                            incorrect[str(expected)] += 1\n",
    "                            add_bbox_sample(bbox_analysis, bbox_size, str(expected), True, False)\n",
    "                if not detected:\n",
    "                    not_detected[str(expected)] += 1\n",
    "                    add_bbox_sample(bbox_analysis, bbox_size, str(expected), False, False)\n",
    "\n",
    "            for i in range(len(box_coords)):\n",
    "                if correpondent_detected[i] is False:\n",
    "                    background_as_trafficLight[str(int(classes[i]))] += 1\n",
    "\n",
    "                #d = dict(zip(unique, counts))\n",
    "                #non_correspondance[int(classes[i])] += d[False]\n",
    "\n",
    "    #         print(expected_bbs)\n",
    "\n",
    "    #         print(np.array(expected_bbs))\n",
    "    #         print(box_coords)\n",
    "    #         draw_boxes(image, np.array(expected_bbs), expected_classes, ['#c2f6a8', '#f68d8d', '#f6eaa8', 'gray'])\n",
    "    #         draw_boxes(image, box_coords, classes, ['green', 'red', 'yellow', 'gray'])\n",
    "        #     print(detection_classes)\n",
    "        #     print(classes)\n",
    "\n",
    "    #         plt.figure(figsize=(12, 8))\n",
    "    #         plt.imshow(image) \n",
    "   \n",
    "    \n",
    "\n",
    "        with open(\"evaluation_model_accuracy_gamma_11nov.csv\", \"a\") as myfile:\n",
    "            for i in range(3): # for all the colors\n",
    "                myfile.write(MODEL_NAME + \",\")\n",
    "                myfile.write(str(NUM_STEPS) + \",\")\n",
    "                myfile.write(DATABASE_TRAIN_NAME + \",\")\n",
    "                myfile.write(DATABASE_EVAL_NAME + \",\")\n",
    "                myfile.write(SYNTHETIC_DATA + \",\")\n",
    "                myfile.write(str(i+1) + \",\") #colour\n",
    "                myfile.write(str(total[str(i+1)]) + \", \")\n",
    "                myfile.write(str(correct[str(i+1)]) + \", \")\n",
    "                myfile.write(str(incorrect[str(i+1)]) + \", \")\n",
    "                myfile.write(str(not_detected[str(i+1)]) + \", \")\n",
    "                myfile.write(str(background_as_trafficLight[str(i+1)]) + \", \")\n",
    "                myfile.write(str(gammaValue))\n",
    "                myfile.write(\"\\n\")"
   ]
  },
  {
   "cell_type": "code",
   "execution_count": null,
   "metadata": {},
   "outputs": [],
   "source": []
  },
  {
   "cell_type": "code",
   "execution_count": null,
   "metadata": {},
   "outputs": [],
   "source": []
  },
  {
   "cell_type": "code",
   "execution_count": null,
   "metadata": {},
   "outputs": [],
   "source": []
  },
  {
   "cell_type": "code",
   "execution_count": 145,
   "metadata": {},
   "outputs": [],
   "source": []
  },
  {
   "cell_type": "code",
   "execution_count": null,
   "metadata": {},
   "outputs": [],
   "source": []
  },
  {
   "cell_type": "code",
   "execution_count": 151,
   "metadata": {},
   "outputs": [],
   "source": []
  },
  {
   "cell_type": "code",
   "execution_count": null,
   "metadata": {},
   "outputs": [],
   "source": []
  },
  {
   "cell_type": "code",
   "execution_count": null,
   "metadata": {},
   "outputs": [],
   "source": []
  },
  {
   "cell_type": "code",
   "execution_count": null,
   "metadata": {},
   "outputs": [],
   "source": []
  },
  {
   "cell_type": "code",
   "execution_count": null,
   "metadata": {},
   "outputs": [],
   "source": []
  },
  {
   "cell_type": "code",
   "execution_count": null,
   "metadata": {},
   "outputs": [],
   "source": []
  },
  {
   "cell_type": "code",
   "execution_count": null,
   "metadata": {},
   "outputs": [],
   "source": []
  },
  {
   "cell_type": "code",
   "execution_count": null,
   "metadata": {},
   "outputs": [],
   "source": []
  },
  {
   "cell_type": "code",
   "execution_count": null,
   "metadata": {},
   "outputs": [],
   "source": []
  },
  {
   "cell_type": "code",
   "execution_count": null,
   "metadata": {},
   "outputs": [],
   "source": []
  },
  {
   "cell_type": "code",
   "execution_count": null,
   "metadata": {},
   "outputs": [],
   "source": []
  },
  {
   "cell_type": "code",
   "execution_count": null,
   "metadata": {},
   "outputs": [],
   "source": []
  },
  {
   "cell_type": "code",
   "execution_count": null,
   "metadata": {},
   "outputs": [],
   "source": []
  },
  {
   "cell_type": "code",
   "execution_count": null,
   "metadata": {},
   "outputs": [],
   "source": []
  },
  {
   "cell_type": "code",
   "execution_count": null,
   "metadata": {},
   "outputs": [],
   "source": []
  },
  {
   "cell_type": "code",
   "execution_count": null,
   "metadata": {},
   "outputs": [],
   "source": []
  },
  {
   "cell_type": "code",
   "execution_count": null,
   "metadata": {},
   "outputs": [],
   "source": []
  },
  {
   "cell_type": "code",
   "execution_count": null,
   "metadata": {},
   "outputs": [],
   "source": []
  },
  {
   "cell_type": "code",
   "execution_count": null,
   "metadata": {},
   "outputs": [],
   "source": []
  },
  {
   "cell_type": "code",
   "execution_count": null,
   "metadata": {},
   "outputs": [],
   "source": []
  },
  {
   "cell_type": "code",
   "execution_count": null,
   "metadata": {},
   "outputs": [],
   "source": []
  },
  {
   "cell_type": "code",
   "execution_count": null,
   "metadata": {},
   "outputs": [],
   "source": []
  },
  {
   "cell_type": "code",
   "execution_count": null,
   "metadata": {},
   "outputs": [],
   "source": []
  },
  {
   "cell_type": "code",
   "execution_count": null,
   "metadata": {},
   "outputs": [],
   "source": []
  },
  {
   "cell_type": "code",
   "execution_count": null,
   "metadata": {},
   "outputs": [],
   "source": []
  },
  {
   "cell_type": "code",
   "execution_count": null,
   "metadata": {},
   "outputs": [],
   "source": []
  },
  {
   "cell_type": "code",
   "execution_count": null,
   "metadata": {},
   "outputs": [],
   "source": []
  },
  {
   "cell_type": "code",
   "execution_count": null,
   "metadata": {},
   "outputs": [],
   "source": []
  },
  {
   "cell_type": "code",
   "execution_count": null,
   "metadata": {},
   "outputs": [],
   "source": []
  },
  {
   "cell_type": "code",
   "execution_count": null,
   "metadata": {},
   "outputs": [],
   "source": []
  },
  {
   "cell_type": "code",
   "execution_count": null,
   "metadata": {},
   "outputs": [],
   "source": []
  },
  {
   "cell_type": "code",
   "execution_count": null,
   "metadata": {},
   "outputs": [],
   "source": []
  },
  {
   "cell_type": "code",
   "execution_count": null,
   "metadata": {},
   "outputs": [],
   "source": []
  },
  {
   "cell_type": "code",
   "execution_count": null,
   "metadata": {},
   "outputs": [],
   "source": []
  },
  {
   "cell_type": "code",
   "execution_count": null,
   "metadata": {},
   "outputs": [],
   "source": []
  },
  {
   "cell_type": "code",
   "execution_count": null,
   "metadata": {},
   "outputs": [],
   "source": []
  },
  {
   "cell_type": "code",
   "execution_count": null,
   "metadata": {},
   "outputs": [],
   "source": []
  },
  {
   "cell_type": "code",
   "execution_count": null,
   "metadata": {},
   "outputs": [],
   "source": []
  },
  {
   "cell_type": "code",
   "execution_count": null,
   "metadata": {},
   "outputs": [],
   "source": []
  },
  {
   "cell_type": "code",
   "execution_count": null,
   "metadata": {},
   "outputs": [],
   "source": []
  },
  {
   "cell_type": "code",
   "execution_count": null,
   "metadata": {},
   "outputs": [],
   "source": []
  },
  {
   "cell_type": "code",
   "execution_count": null,
   "metadata": {},
   "outputs": [],
   "source": []
  },
  {
   "cell_type": "code",
   "execution_count": null,
   "metadata": {},
   "outputs": [],
   "source": []
  },
  {
   "cell_type": "code",
   "execution_count": null,
   "metadata": {},
   "outputs": [],
   "source": []
  },
  {
   "cell_type": "code",
   "execution_count": null,
   "metadata": {},
   "outputs": [],
   "source": []
  },
  {
   "cell_type": "code",
   "execution_count": null,
   "metadata": {},
   "outputs": [],
   "source": []
  },
  {
   "cell_type": "code",
   "execution_count": null,
   "metadata": {},
   "outputs": [],
   "source": []
  },
  {
   "cell_type": "code",
   "execution_count": null,
   "metadata": {},
   "outputs": [],
   "source": []
  },
  {
   "cell_type": "code",
   "execution_count": null,
   "metadata": {},
   "outputs": [],
   "source": []
  },
  {
   "cell_type": "code",
   "execution_count": null,
   "metadata": {},
   "outputs": [],
   "source": []
  },
  {
   "cell_type": "code",
   "execution_count": null,
   "metadata": {},
   "outputs": [],
   "source": []
  },
  {
   "cell_type": "code",
   "execution_count": null,
   "metadata": {},
   "outputs": [],
   "source": []
  },
  {
   "cell_type": "code",
   "execution_count": null,
   "metadata": {},
   "outputs": [],
   "source": []
  },
  {
   "cell_type": "code",
   "execution_count": null,
   "metadata": {},
   "outputs": [],
   "source": []
  },
  {
   "cell_type": "code",
   "execution_count": null,
   "metadata": {},
   "outputs": [],
   "source": []
  },
  {
   "cell_type": "code",
   "execution_count": null,
   "metadata": {},
   "outputs": [],
   "source": []
  },
  {
   "cell_type": "code",
   "execution_count": null,
   "metadata": {},
   "outputs": [],
   "source": []
  },
  {
   "cell_type": "code",
   "execution_count": null,
   "metadata": {},
   "outputs": [],
   "source": []
  },
  {
   "cell_type": "code",
   "execution_count": null,
   "metadata": {},
   "outputs": [],
   "source": []
  },
  {
   "cell_type": "code",
   "execution_count": null,
   "metadata": {},
   "outputs": [],
   "source": []
  },
  {
   "cell_type": "code",
   "execution_count": null,
   "metadata": {},
   "outputs": [],
   "source": []
  },
  {
   "cell_type": "code",
   "execution_count": null,
   "metadata": {},
   "outputs": [],
   "source": []
  },
  {
   "cell_type": "code",
   "execution_count": null,
   "metadata": {},
   "outputs": [],
   "source": []
  },
  {
   "cell_type": "code",
   "execution_count": null,
   "metadata": {},
   "outputs": [],
   "source": []
  },
  {
   "cell_type": "code",
   "execution_count": null,
   "metadata": {},
   "outputs": [],
   "source": []
  },
  {
   "cell_type": "code",
   "execution_count": null,
   "metadata": {},
   "outputs": [],
   "source": []
  },
  {
   "cell_type": "code",
   "execution_count": null,
   "metadata": {},
   "outputs": [],
   "source": []
  },
  {
   "cell_type": "code",
   "execution_count": null,
   "metadata": {},
   "outputs": [],
   "source": []
  },
  {
   "cell_type": "code",
   "execution_count": null,
   "metadata": {},
   "outputs": [],
   "source": []
  },
  {
   "cell_type": "code",
   "execution_count": null,
   "metadata": {},
   "outputs": [],
   "source": []
  },
  {
   "cell_type": "code",
   "execution_count": null,
   "metadata": {},
   "outputs": [],
   "source": []
  },
  {
   "cell_type": "code",
   "execution_count": null,
   "metadata": {},
   "outputs": [],
   "source": []
  },
  {
   "cell_type": "code",
   "execution_count": null,
   "metadata": {},
   "outputs": [],
   "source": []
  },
  {
   "cell_type": "code",
   "execution_count": null,
   "metadata": {},
   "outputs": [],
   "source": []
  },
  {
   "cell_type": "code",
   "execution_count": null,
   "metadata": {},
   "outputs": [],
   "source": []
  },
  {
   "cell_type": "code",
   "execution_count": null,
   "metadata": {},
   "outputs": [],
   "source": []
  },
  {
   "cell_type": "code",
   "execution_count": null,
   "metadata": {},
   "outputs": [],
   "source": []
  },
  {
   "cell_type": "code",
   "execution_count": null,
   "metadata": {},
   "outputs": [],
   "source": []
  },
  {
   "cell_type": "code",
   "execution_count": null,
   "metadata": {},
   "outputs": [],
   "source": []
  },
  {
   "cell_type": "code",
   "execution_count": null,
   "metadata": {},
   "outputs": [],
   "source": []
  },
  {
   "cell_type": "code",
   "execution_count": null,
   "metadata": {},
   "outputs": [],
   "source": []
  },
  {
   "cell_type": "code",
   "execution_count": null,
   "metadata": {},
   "outputs": [],
   "source": []
  },
  {
   "cell_type": "code",
   "execution_count": null,
   "metadata": {},
   "outputs": [],
   "source": []
  },
  {
   "cell_type": "code",
   "execution_count": null,
   "metadata": {},
   "outputs": [],
   "source": []
  },
  {
   "cell_type": "code",
   "execution_count": null,
   "metadata": {},
   "outputs": [],
   "source": []
  },
  {
   "cell_type": "markdown",
   "metadata": {},
   "source": [
    "## Timing Detection\n",
    "\n",
    "The model zoo comes with a variety of models, each its benefits and costs. Below you'll time some of these models. The general tradeoff being sacrificing model accuracy for seconds per frame (SPF)."
   ]
  },
  {
   "cell_type": "code",
   "execution_count": 212,
   "metadata": {},
   "outputs": [],
   "source": [
    "def time_detection(sess, runs=10):\n",
    "    image_tensor = sess.graph.get_tensor_by_name('image_tensor:0')\n",
    "    detection_boxes = sess.graph.get_tensor_by_name('detection_boxes:0')\n",
    "    detection_scores = sess.graph.get_tensor_by_name('detection_scores:0')\n",
    "    detection_classes = sess.graph.get_tensor_by_name('detection_classes:0')\n",
    "    \n",
    "    numImages = 100\n",
    "    times = []\n",
    "    for idx_image in range(numImages):\n",
    "        sample_name = 'synthetic-' + str(idx_image)\n",
    "        image = Image.open(evaluation_folder + sample_name + '.jpg')\n",
    "        image_np = np.expand_dims(np.asarray(image, dtype=np.uint8), 0)\n",
    "        \n",
    "        for i in range(runs):\n",
    "            t0 = time.time()\n",
    "            sess.run([detection_boxes, detection_scores, detection_classes], feed_dict={image_tensor: image_np})\n",
    "            t1 = time.time()\n",
    "            times.append((t1 - t0) * 1000)\n",
    "    return times"
   ]
  },
  {
   "cell_type": "code",
   "execution_count": null,
   "metadata": {},
   "outputs": [],
   "source": []
  },
  {
   "cell_type": "code",
   "execution_count": null,
   "metadata": {},
   "outputs": [],
   "source": [
    "#to store in the file where we record data for evaluation\n",
    "MODEL_NAME = \"ssd_mobilenet_v1_coco_10000\"        \n",
    "evaluation_folder = './synthetic-dataset-oct-30-with-labels/'\n",
    "detection_graph = load_graph('./graphsModels/ssd_mobilenet_v1_coco_10000.pb')\n",
    "\n",
    "with tf.Session(graph=detection_graph) as sess:\n",
    "    times = time_detection(sess, runs=10)\n",
    "    with open(\"evaluation_model_object_detection_timings.csv\", \"a\") as myfile:\n",
    "        myfile.write(MODEL_NAME + \",\") \n",
    "        myfile.write(str(np.mean(times)) + \",\") \n",
    "        myfile.write(str(np.std(times)))\n",
    "        myfile.write(\"\\n\")"
   ]
  },
  {
   "cell_type": "code",
   "execution_count": 198,
   "metadata": {},
   "outputs": [
    {
     "data": {
      "image/png": "[encoded data removed]",
      "text/plain": [
       "<Figure size 648x432 with 1 Axes>"
      ]
     },
     "metadata": {},
     "output_type": "display_data"
    }
   ],
   "source": [
    "# Create a figure instance\n",
    "fig = plt.figure(1, figsize=(9, 6))\n",
    "\n",
    "# Create an axes instance\n",
    "ax = fig.add_subplot(111)\n",
    "plt.title(\"Object Detection Timings\")\n",
    "plt.ylabel(\"Time (ms)\")\n",
    "\n",
    "# Create the boxplot\n",
    "plt.style.use('fivethirtyeight')\n",
    "bp = ax.boxplot(times)"
   ]
  },
  {
   "cell_type": "code",
   "execution_count": 211,
   "metadata": {},
   "outputs": [
    {
     "data": {
      "text/plain": [
       "161.2577597816605"
      ]
     },
     "execution_count": 211,
     "metadata": {},
     "output_type": "execute_result"
    }
   ],
   "source": [
    "np.mean(times)\n",
    "np.std(times)"
   ]
  },
  {
   "cell_type": "code",
   "execution_count": null,
   "metadata": {},
   "outputs": [],
   "source": []
  },
  {
   "cell_type": "code",
   "execution_count": null,
   "metadata": {},
   "outputs": [],
   "source": []
  },
  {
   "cell_type": "code",
   "execution_count": null,
   "metadata": {},
   "outputs": [],
   "source": []
  },
  {
   "cell_type": "markdown",
   "metadata": {},
   "source": [
    "### Exercise 4 - Model Tradeoffs\n",
    "\n",
    "Download a few models from the [model zoo](https://github.com/tensorflow/models/blob/master/research/object_detection/g3doc/detection_model_zoo.md) and compare the timings."
   ]
  },
  {
   "cell_type": "markdown",
   "metadata": {},
   "source": [
    "## Detection on a Video\n",
    "\n",
    "Finally run your pipeline on [this short video](https://s3-us-west-1.amazonaws.com/udacity-selfdrivingcar/advanced_deep_learning/driving.mp4)."
   ]
  },
  {
   "cell_type": "code",
   "execution_count": 11,
   "metadata": {},
   "outputs": [],
   "source": [
    "# Import everything needed to edit/save/watch video clips\n",
    "from moviepy.editor import VideoFileClip\n",
    "from IPython.display import HTML"
   ]
  },
  {
   "cell_type": "code",
   "execution_count": null,
   "metadata": {},
   "outputs": [],
   "source": []
  },
  {
   "cell_type": "code",
   "execution_count": 12,
   "metadata": {},
   "outputs": [
    {
     "data": {
      "text/html": [
       "\n",
       "<video width=\"960\" height=\"600\" controls>\n",
       "  <source src=\"driving.mp4\" type=\"video/mp4\">\n",
       "</video>\n"
      ],
      "text/plain": [
       "<IPython.core.display.HTML object>"
      ]
     },
     "execution_count": 12,
     "metadata": {},
     "output_type": "execute_result"
    }
   ],
   "source": [
    "HTML(\"\"\"\n",
    "<video width=\"960\" height=\"600\" controls>\n",
    "  <source src=\"{0}\" type=\"video/mp4\">\n",
    "</video>\n",
    "\"\"\".format('driving.mp4'))"
   ]
  },
  {
   "cell_type": "code",
   "execution_count": null,
   "metadata": {},
   "outputs": [],
   "source": []
  },
  {
   "cell_type": "markdown",
   "metadata": {
    "collapsed": true
   },
   "source": [
    "### Exercise 5 - Object Detection on a Video\n",
    "\n",
    "Run an object detection pipeline on the above clip."
   ]
  },
  {
   "cell_type": "code",
   "execution_count": 13,
   "metadata": {},
   "outputs": [],
   "source": [
    "clip = VideoFileClip('driving.mp4')"
   ]
  },
  {
   "cell_type": "code",
   "execution_count": 29,
   "metadata": {},
   "outputs": [],
   "source": [
    "# TODO: Complete this function.\n",
    "# The input is an NumPy array.\n",
    "# The output should also be a NumPy array.\n",
    "def pipeline(img):\n",
    "    draw_img = Image.fromarray(img)\n",
    "    # Actual detection.\n",
    "    (boxes, scores, classes) = sess.run([detection_boxes, detection_scores, detection_classes], \n",
    "                                        feed_dict={image_tensor: np.expand_dims(img, 0)})\n",
    "\n",
    "    # Remove unnecessary dimensions\n",
    "    boxes = np.squeeze(boxes)\n",
    "    scores = np.squeeze(scores)\n",
    "    classes = np.squeeze(classes)\n",
    "\n",
    "    confidence_cutoff = 0.3\n",
    "    # Filter boxes with a confidence score less than `confidence_cutoff`\n",
    "    boxes, scores, classes = filter_boxes(confidence_cutoff, boxes, scores, classes)\n",
    "\n",
    "    # The current box coordinates are normalized to a range between 0 and 1.\n",
    "    # This converts the coordinates actual location on the image.\n",
    "    width, height = draw_img.size\n",
    "    box_coords = to_image_coords(boxes, height, width)\n",
    "\n",
    "    # Each class with be represented by a differently colored box\n",
    "    draw_boxes(draw_img, box_coords, classes)\n",
    "    return np.array(draw_img)"
   ]
  },
  {
   "cell_type": "code",
   "execution_count": null,
   "metadata": {},
   "outputs": [],
   "source": []
  },
  {
   "cell_type": "code",
   "execution_count": null,
   "metadata": {},
   "outputs": [],
   "source": []
  },
  {
   "cell_type": "code",
   "execution_count": null,
   "metadata": {},
   "outputs": [],
   "source": []
  },
  {
   "cell_type": "code",
   "execution_count": null,
   "metadata": {},
   "outputs": [],
   "source": []
  },
  {
   "cell_type": "code",
   "execution_count": null,
   "metadata": {},
   "outputs": [],
   "source": []
  },
  {
   "cell_type": "code",
   "execution_count": null,
   "metadata": {},
   "outputs": [],
   "source": []
  },
  {
   "cell_type": "markdown",
   "metadata": {},
   "source": [
    "**[Sample solution](./exercise-solutions/e5.py)**"
   ]
  },
  {
   "cell_type": "code",
   "execution_count": 30,
   "metadata": {},
   "outputs": [
    {
     "name": "stdout",
     "output_type": "stream",
     "text": [
      "[MoviePy] >>>> Building video result.mp4\n",
      "[MoviePy] Writing video result.mp4\n"
     ]
    },
    {
     "name": "stderr",
     "output_type": "stream",
     "text": [
      "100%|██████████| 1782/1782 [07:31<00:00,  3.95it/s]\n"
     ]
    },
    {
     "name": "stdout",
     "output_type": "stream",
     "text": [
      "[MoviePy] Done.\n",
      "[MoviePy] >>>> Video ready: result.mp4 \n",
      "\n"
     ]
    }
   ],
   "source": [
    "with tf.Session(graph=detection_graph) as sess:\n",
    "    image_tensor = sess.graph.get_tensor_by_name('image_tensor:0')\n",
    "    detection_boxes = sess.graph.get_tensor_by_name('detection_boxes:0')\n",
    "    detection_scores = sess.graph.get_tensor_by_name('detection_scores:0')\n",
    "    detection_classes = sess.graph.get_tensor_by_name('detection_classes:0')\n",
    "    \n",
    "    new_clip = clip.fl_image(pipeline)\n",
    "    \n",
    "    # write to file\n",
    "    new_clip.write_videofile('result.mp4', audio=False)"
   ]
  },
  {
   "cell_type": "code",
   "execution_count": null,
   "metadata": {},
   "outputs": [],
   "source": []
  },
  {
   "cell_type": "code",
   "execution_count": null,
   "metadata": {},
   "outputs": [],
   "source": []
  },
  {
   "cell_type": "code",
   "execution_count": null,
   "metadata": {},
   "outputs": [],
   "source": []
  },
  {
   "cell_type": "code",
   "execution_count": null,
   "metadata": {},
   "outputs": [],
   "source": []
  },
  {
   "cell_type": "code",
   "execution_count": null,
   "metadata": {},
   "outputs": [],
   "source": []
  },
  {
   "cell_type": "code",
   "execution_count": 26,
   "metadata": {},
   "outputs": [
    {
     "data": {
      "text/html": [
       "\n",
       "<video width=\"960\" height=\"600\" controls>\n",
       "  <source src=\"result.mp4\" type=\"video/mp4\">\n",
       "</video>\n"
      ],
      "text/plain": [
       "<IPython.core.display.HTML object>"
      ]
     },
     "execution_count": 26,
     "metadata": {},
     "output_type": "execute_result"
    }
   ],
   "source": [
    "HTML(\"\"\"\n",
    "<video width=\"960\" height=\"600\" controls>\n",
    "  <source src=\"{0}\" type=\"video/mp4\">\n",
    "</video>\n",
    "\"\"\".format('result.mp4'))"
   ]
  },
  {
   "cell_type": "code",
   "execution_count": null,
   "metadata": {},
   "outputs": [],
   "source": []
  },
  {
   "cell_type": "code",
   "execution_count": null,
   "metadata": {},
   "outputs": [],
   "source": []
  },
  {
   "cell_type": "markdown",
   "metadata": {},
   "source": [
    "## Further Exploration\n",
    "\n",
    "Some ideas to take things further:\n",
    "\n",
    "* Finetune the model on a new dataset more relevant to autonomous vehicles. Instead of loading the frozen inference graph you'll load the checkpoint.\n",
    "* Optimize the model and get the FPS as low as possible.\n",
    "* Build your own detector. There are several base model pretrained on ImageNet you can choose from. [Keras](https://keras.io/applications/) is probably the quickest way to get setup in this regard.\n"
   ]
  },
  {
   "cell_type": "code",
   "execution_count": null,
   "metadata": {},
   "outputs": [],
   "source": []
  }
 ],
 "metadata": {
  "kernelspec": {
   "display_name": "Python 2",
   "language": "python",
   "name": "python2"
  },
  "language_info": {
   "codemirror_mode": {
    "name": "ipython",
    "version": 2
   },
   "file_extension": ".py",
   "mimetype": "text/x-python",
   "name": "python",
   "nbconvert_exporter": "python",
   "pygments_lexer": "ipython2",
   "version": "2.7.15"
  },
  "widgets": {
   "state": {},
   "version": "1.1.2"
  }
 },
 "nbformat": 4,
 "nbformat_minor": 2
}
